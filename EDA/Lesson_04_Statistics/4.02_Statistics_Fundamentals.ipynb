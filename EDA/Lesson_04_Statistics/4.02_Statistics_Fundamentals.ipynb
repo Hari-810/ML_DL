{
 "cells": [
  {
   "cell_type": "markdown",
   "id": "4219a4ea",
   "metadata": {
    "id": "4219a4ea"
   },
   "source": [
    "# <b>Statistics Fundamentals</b>"
   ]
  },
  {
   "cell_type": "markdown",
   "id": "tDnzDntZRdZK",
   "metadata": {
    "id": "tDnzDntZRdZK"
   },
   "source": [
    "# Agenda"
   ]
  },
  {
   "cell_type": "markdown",
   "id": "3WbDfEseRNpE",
   "metadata": {
    "id": "3WbDfEseRNpE"
   },
   "source": [
    "\n",
    "\n",
    "In this lesson, we will cover the following concepts with the help of a business use case:\n",
    "* Statistics and its importance in Data Science:\n",
    "  * Types of Statistics\n",
    "* Data Categorization:\n",
    "  * Types of Data\n",
    "* Levels of Measurement\n",
    "* Measures of Dispersion \n",
    "* Random Variables\n",
    "* Sets with its Operations\n",
    "* Measures of Shape(Skewness) "
   ]
  },
  {
   "cell_type": "markdown",
   "id": "umRlLaPKQ6Dx",
   "metadata": {
    "id": "umRlLaPKQ6Dx"
   },
   "source": [
    "# Importance of Statistics for Data Science "
   ]
  },
  {
   "cell_type": "markdown",
   "id": "abe75af4",
   "metadata": {
    "id": "abe75af4"
   },
   "source": [
    "Most of the major developments in statistics occurred in the last century. Probability theory, which is the foundation of statistics, was developed between the 17th and 19th centuries by Thomas Bayes, Pierre Simon Laplace, and Carl Gauss. While probability theory is theoretical, statistics is an applied branch of science whose primary aim is to analyze data.\n"
   ]
  },
  {
   "cell_type": "markdown",
   "id": "467a8c42",
   "metadata": {
    "id": "467a8c42"
   },
   "source": [
    "In this Lesson, we will explore the different concepts of statistics and their importance in data science.\n"
   ]
  },
  {
   "cell_type": "markdown",
   "id": "12f78826",
   "metadata": {
    "id": "12f78826"
   },
   "source": [
    "The first step of any data science project is to explore data. Exploratory Data Analysis or EDA is a relatively new \n",
    "area of statistics. Classical statistics focuses exclusively on Inference, which is a set of procedures to conclude \n",
    "about large populations by studying small samples. With the explosion of computing power and expressive data analysis\n",
    "software, EDA has evolved way beyond its original scope. \n"
   ]
  },
  {
   "cell_type": "markdown",
   "id": "57416abf",
   "metadata": {
    "id": "57416abf"
   },
   "source": [
    "The rapid development of new technology, access to bigger data, and the greater use of quantitative analysis in a \n",
    "variety of disciplines have driven this growth.\n"
   ]
  },
  {
   "cell_type": "markdown",
   "id": "628b825a",
   "metadata": {
    "id": "628b825a"
   },
   "source": [
    "# What Is Statistics?"
   ]
  },
  {
   "cell_type": "markdown",
   "id": "2a63c6ce",
   "metadata": {},
   "source": [
    "Statistics is a discipline that deals with methodologies to collect, prepare, analyze, and interpret conclusions from the data. We can mine the raw data to find patterns using statistical concepts. \n",
    "![statpreparecollect.PNG](https://s3.us-east-1.amazonaws.com/static2.simplilearn.com/lms/testpaper_images/ADSP/Advanced_Statistics/Probimages/Statistics_Fundamentals/statpreparecollect.PNG)\n"
   ]
  },
  {
   "cell_type": "markdown",
   "id": "033d1aca",
   "metadata": {},
   "source": [
    "\n",
    "\n",
    "We combine this with the domain expertise to interpret these patterns and use the findings for decision-making in \n",
    "real-world situations.The end objective is to generate value for an organization"
   ]
  },
  {
   "cell_type": "markdown",
   "id": "68595329",
   "metadata": {
    "id": "68595329"
   },
   "source": [
    " \n",
    "\n",
    "\n",
    "\n",
    "![statisceimagee.jpg](https://s3.us-east-1.amazonaws.com/static2.simplilearn.com/lms/testpaper_images/ADSP/Advanced_Statistics/Probimages/Statistics_Fundamentals/statisceimagee.jpg)\n",
    "\n",
    "\n",
    "\n",
    "Data science is a combination of Computer Science and Statistics. A thorough understanding of statistics is vital for developing a strong intuition for machine learning algorithms. \n",
    "\n",
    "Otherwise, the algorithms resemble black boxes that just output a certain level of accuracy.The knowledge of core concepts of statistics helps in understanding the origin of this accuracy and in feature engineering. This knowledge also helps in building ensemble methods where different machine learning algorithms can be combined to get the highest \n",
    "possible level of accuracy. \n",
    "\n"
   ]
  },
  {
   "cell_type": "markdown",
   "id": "9ffe677a",
   "metadata": {
    "id": "9ffe677a"
   },
   "source": [
    "## **Common Terms Used in Statistics**\n"
   ]
  },
  {
   "cell_type": "markdown",
   "id": "d857cbfb",
   "metadata": {
    "id": "d857cbfb"
   },
   "source": [
    "\n",
    "1. <b> Population and Sample: </b> Population is the complete data pool from where a sample is drawn for further analysis.The sample is a subset of the population.\n",
    "\n",
    "    example:\n",
    "    In a factory with 500 employees (population), 50 workers randomly selected for a satisfaction survey (sample). The population represents all workers, while the sample, a smaller group, provides insights into overall job satisfaction."
   ]
  },
  {
   "cell_type": "markdown",
   "id": "87da541b",
   "metadata": {},
   "source": [
    "\n",
    "2. <b> Measurement and Sample Data: </b>A measurement is a number or attribute calculated for each member of the population or sample. The measurements of the sample members are collectively called sample data.  \n",
    "\n",
    "    example:\n",
    "    In a survey about customer satisfaction, each respondent rates the product on a scale from 1 to 5 (measurement). The collection of these ratings from the surveyed customers represents the sample data, providing insights into overall satisfaction levels."
   ]
  },
  {
   "cell_type": "markdown",
   "id": "5d32c0bc",
   "metadata": {},
   "source": [
    "3. <b> Parameter:</b> A parameter is a characteristic of the population that we want to estimate or test, such as \n",
    "    the population mean. \n"
   ]
  },
  {
   "cell_type": "markdown",
   "id": "3c772283",
   "metadata": {},
   "source": [
    "\n",
    "4. <b> Variable: </b> A variable is something that can take on different values in the data set. \n",
    "\n"
   ]
  },
  {
   "cell_type": "markdown",
   "id": "1fab7a9d",
   "metadata": {},
   "source": [
    "5. <b> Distribution:</b> Distribution is the sample data that takes values from only a Measurement certain range. "
   ]
  },
  {
   "cell_type": "markdown",
   "id": "1f9e576f",
   "metadata": {
    "id": "1f9e576f"
   },
   "source": [
    "## Types of Statistics "
   ]
  },
  {
   "cell_type": "markdown",
   "id": "7e1995a6",
   "metadata": {},
   "source": [
    "![types_of_Statistics.png](https://s3.us-east-1.amazonaws.com/static2.simplilearn.com/lms/testpaper_images/ADSP/Advanced_Statistics/Probimages/Statistics_Fundamentals/types_of_Statistics.png)"
   ]
  },
  {
   "cell_type": "markdown",
   "id": "6f604d08",
   "metadata": {
    "id": "6f604d08"
   },
   "source": [
    "<b> 1. Descriptive statistics </b> It is a branch of statistics that involves organizing, displaying, and describing data. It deals with numbers (numerical facts, figures, or information) to describe any phenomena which can be referred to as descriptive statistics. \n",
    "\n",
    "\n"
   ]
  },
  {
   "cell_type": "markdown",
   "id": "6514c102",
   "metadata": {},
   "source": [
    "\n",
    "<b> 2. Inferential statistics</b> It is a branch of statistics that involves drawing conclusions about a population based on the information obtained from a sample taken from that population.\n",
    "\n",
    "Inferential statistics is used to make inferences from data whereas descriptive statistics simply describes what is happening with data.  \n"
   ]
  },
  {
   "cell_type": "markdown",
   "id": "ffeeed6f",
   "metadata": {},
   "source": [
    "Example:"
   ]
  },
  {
   "cell_type": "markdown",
   "id": "f4b8efd8",
   "metadata": {
    "id": "f4b8efd8"
   },
   "source": [
    "\n",
    "\n",
    "Estimating the automobiles manufactured in a month, the entire output is considered as the population. The automobiles inspected for quality characteristics like mileage per gallon of gasoline constitute a sample.The average mileage of all cars is a parameter while the average life of the sample inspected is a statistic.\n",
    "\n",
    "\n",
    "\n",
    "![automobileexample-2.PNG](https://s3.us-east-1.amazonaws.com/static2.simplilearn.com/lms/testpaper_images/ADSP/Advanced_Statistics/Probimages/Statistics_Fundamentals/automobileexample.PNG)\n",
    "\n",
    "\n",
    "If we deal with descriptive statistics here, it will include the selection of a sample, the presentation of sample data as diagrams or tables, and the computation of the value of a statistic.\n",
    " \n",
    "\n",
    "Inferential Statistics is used to generalize such as: “Is the population average at least 23 miles per gallon from the sample being studied?” \n"
   ]
  },
  {
   "cell_type": "markdown",
   "id": "16a53284",
   "metadata": {
    "id": "16a53284"
   },
   "source": [
    "\n",
    "<b>3. Predictive statistics</b> It is defined as the science of extracting information from data \n",
    "and using them to predict trends, behavior patterns, or relationships between characteristics.\n",
    " \n",
    "\n",
    "\n",
    " \n"
   ]
  },
  {
   "cell_type": "markdown",
   "id": "dea94a60",
   "metadata": {},
   "source": [
    "example 1:"
   ]
  },
  {
   "cell_type": "markdown",
   "id": "cf2d9f19",
   "metadata": {},
   "source": [
    "\n",
    "The data on the number of residents in a city recorded over the years could be used to predict the city’s \n",
    "future population. This could be useful to estimate the demand for infrastructure for the years to come. Sometimes \n",
    "data on two or more characteristics tend to have relationships. Such data can be used to predict the values of one \n",
    "characteristic while knowing the values of the other.\n",
    "\n",
    "\n",
    "\n"
   ]
  },
  {
   "cell_type": "markdown",
   "id": "7050052f",
   "metadata": {},
   "source": [
    "![datacategorizationexampe.PNG](https://s3.us-east-1.amazonaws.com/static2.simplilearn.com/lms/testpaper_images/ADSP/Advanced_Statistics/Probimages/Statistics_Fundamentals/datacategorizationexampe.PNG)"
   ]
  },
  {
   "cell_type": "markdown",
   "id": "e1b460d3",
   "metadata": {},
   "source": [
    "example 2:"
   ]
  },
  {
   "cell_type": "markdown",
   "id": "aae2eae7",
   "metadata": {},
   "source": [
    "\n",
    "The demand for spares in the forthcoming years can be predicted by evaluating the sales of cars during the past few years."
   ]
  },
  {
   "cell_type": "markdown",
   "id": "b80b5f13",
   "metadata": {},
   "source": [
    "![carsales.PNG](https://s3.us-east-1.amazonaws.com/static2.simplilearn.com/lms/testpaper_images/ADSP/Advanced_Statistics/Probimages/Statistics_Fundamentals/carsales.PNG)"
   ]
  },
  {
   "cell_type": "markdown",
   "id": "daadd86d",
   "metadata": {
    "id": "daadd86d"
   },
   "source": [
    "## Data Categorization "
   ]
  },
  {
   "cell_type": "markdown",
   "id": "2b9f1da9",
   "metadata": {},
   "source": [
    "Data is a collection of facts and figures that can be analyzed, interpreted, and presented. We collect and use\n",
    "different types of data for several tasks every day. Statistical analysis is used to gain useful information from it \n",
    "and to categorize the data. "
   ]
  },
  {
   "cell_type": "markdown",
   "id": "10810eaf",
   "metadata": {},
   "source": [
    "![datacategorization.png](https://s3.us-east-1.amazonaws.com/static2.simplilearn.com/lms/testpaper_images/ADSP/Advanced_Statistics/Probimages/Statistics_Fundamentals/datacategorization.png)"
   ]
  },
  {
   "cell_type": "markdown",
   "id": "e3d219f2",
   "metadata": {
    "id": "e3d219f2"
   },
   "source": [
    "\n",
    "\n",
    "\n",
    "<b> Example </b> A survey is conducted to evaluate employee satisfaction. The responses can be studied by \n",
    "categorizing the respondents into two or more categories depending on the:\n",
    "\n",
    "<b> Level of seniority: </b> Assistant managers, deputy managers, managers, senior managers, etc.     \n",
    "\n",
    "<b> Functional affiliation: </b>Sales and marketing, accounting, purchase, human resources, etc. \n",
    "\n",
    "<b> Work experience</b> Number of years of work \n",
    "\n",
    "<b> Location:</b> City-wise or branch-wise\n",
    " \n",
    "\n",
    "<b> Different categories </b> Categorization is vital for identifying these differences "
   ]
  },
  {
   "cell_type": "markdown",
   "id": "e7c932e6",
   "metadata": {
    "id": "e7c932e6"
   },
   "source": [
    "# Types of Data  "
   ]
  },
  {
   "cell_type": "markdown",
   "id": "36a53a5f",
   "metadata": {},
   "source": [
    "\n",
    "\n",
    "![typesofdata.png](https://s3.us-east-1.amazonaws.com/static2.simplilearn.com/lms/testpaper_images/ADSP/Advanced_Statistics/Probimages/Statistics_Fundamentals/typesofdata.png)\n",
    "\n",
    "    \n",
    "    \n"
   ]
  },
  {
   "cell_type": "markdown",
   "id": "8d18f742",
   "metadata": {
    "id": "8d18f742"
   },
   "source": [
    "\n",
    "\n",
    "<b> 1.Categorical data: </b> It represents characteristics such as a person’s gender, marital status, or the types of movies they like. Categorical data can also take numerical values, such as “1” indicates male and “2” indicates female, \n",
    "but these numbers don’t have mathematical meaning.\n",
    "\n",
    "\n"
   ]
  },
  {
   "cell_type": "markdown",
   "id": "37515129",
   "metadata": {},
   "source": [
    "<b> 2. Numerical data </b> It represents the data as a measurement, such as a person’s height, weight, IQ, or blood\n",
    "pressure. Numerical data also represents the data that cannot be counted,such as the number of stocks owned by a person\n",
    "etc.\n"
   ]
  },
  {
   "cell_type": "markdown",
   "id": "90cd6a89",
   "metadata": {
    "id": "90cd6a89"
   },
   "source": [
    "## Types of Numerical Data"
   ]
  },
  {
   "cell_type": "markdown",
   "id": "89660e92",
   "metadata": {},
   "source": [
    "![numericaltypes.PNG](https://s3.us-east-1.amazonaws.com/static2.simplilearn.com/lms/testpaper_images/ADSP/Advanced_Statistics/Probimages/Statistics_Fundamentals/numericaltypes.PNG)"
   ]
  },
  {
   "cell_type": "markdown",
   "id": "247ae100",
   "metadata": {
    "id": "247ae100"
   },
   "source": [
    "\n",
    "\n",
    "<b>1. Discrete data: </b> It represents the data that can be counted or the list of possible values.It is also called finite.\n",
    "\n",
    "<b> Examples: </b>\n",
    "\n",
    "* Number of children in a school\n",
    "\n",
    "* Number of books in your library\n",
    "\n",
    "* Number of cases a Lawyer has won\n",
    "\n",
    "In all the above examples, the values can be 1, 2, or 3, but can never be 1.2, 4.6, 8.7, etc. Thus, the results are countable.\n"
   ]
  },
  {
   "cell_type": "markdown",
   "id": "e0d21987",
   "metadata": {},
   "source": [
    "\n",
    "\n",
    "<b>2. Continuous data: </b> It represents the data in measurements and their values can not be counted but measured. \n",
    "\n",
    "<b> Examples: </b>\n",
    "\n",
    "* The height of a person can be described using intervals on the real number line.\n",
    "* The amount of petrol purchased at the petrol pump for bikes with 20-liter tanks would be continuous data. It is     \n",
    "  represented by the interval [0, 20].\n"
   ]
  },
  {
   "cell_type": "markdown",
   "id": "cf4db7c0",
   "metadata": {
    "id": "cf4db7c0"
   },
   "source": [
    "# Levels of Measurement "
   ]
  },
  {
   "cell_type": "markdown",
   "id": "251803b9",
   "metadata": {},
   "source": [
    "## Qualitative and Quantitative data"
   ]
  },
  {
   "cell_type": "markdown",
   "id": "238d04ae",
   "metadata": {},
   "source": [
    "\n",
    "\n",
    "\n",
    "<b> 1. Qualitative or attributed or categorical data (Nominal, Ordinal)</b> \n",
    "\n",
    "The data which states descriptively is referred to as qualitative data. Such data is not amenable to quantification.\n",
    "\n",
    "The customer preferences for various brands of a product, types of faults in a tennis player such as hitting on the net and outside the baseline, etc., are examples of qualitative data. \n",
    "\n",
    "\n",
    "\n",
    "<b> 2. Quantitative or variable or measurable data (Interval, Ratio)</b> \n",
    "\n",
    "The data is specified numerically through a process of measurement or numerical count called quantitative data. Such data is amenable to arithmetic operations. \n",
    "\n",
    "The diameter of a pole, number of seats occupied in a theater for a particular show, etc., constitute quantitative data.\n",
    "\n"
   ]
  },
  {
   "cell_type": "markdown",
   "id": "79ad885f",
   "metadata": {
    "id": "79ad885f"
   },
   "source": [
    "The levels of measurement demonstrate how variables are recorded. They are also called scales of measurement. \n",
    "It is crucial to understand the levels of measurement because they help us to determine the statistical analysis needed to address the problem.\n",
    " \n",
    "\n",
    "<b> There are four levels of measurement: </b>\n",
    "\n",
    "\n",
    "\n",
    "![level_of_measurement.png](https://s3.us-east-1.amazonaws.com/static2.simplilearn.com/lms/testpaper_images/ADSP/Advanced_Statistics/Probimages/Statistics_Fundamentals/level_of_measurement.png)\n",
    "\n",
    "\n",
    "\n"
   ]
  },
  {
   "cell_type": "markdown",
   "id": "cc8fae3c",
   "metadata": {},
   "source": [
    "### Qualitative data"
   ]
  },
  {
   "cell_type": "markdown",
   "id": "17229be3",
   "metadata": {
    "id": "17229be3"
   },
   "source": [
    "<b> 1. Nominal level:</b> In this level of measurement, the data is only categorized. The numerical values assigned \n",
    "                          to each category cannot be construed as absolute values. \n",
    "\n",
    "\n",
    " \n"
   ]
  },
  {
   "cell_type": "markdown",
   "id": "ecf594e0",
   "metadata": {},
   "source": [
    "\n",
    "<b> Example:</b> \n",
    "    \n",
    "We are collecting data on cell phone brand preferences; we assign 1 to Apple, 2 to Samsung, and 3 to Nokia.These \n",
    "numbers are used to categorize the data.In some cases, letters or words may be used depending on the type of categorization.\n",
    "\n",
    "Example 2:\n",
    "\n",
    "- Colors (red, green, blue)\n",
    "- Types of animals (cat, dog, bird)\n",
    "- Yes/No responses\n",
    "\n",
    " "
   ]
  },
  {
   "cell_type": "markdown",
   "id": "76e3b980",
   "metadata": {
    "id": "76e3b980"
   },
   "source": [
    "\n",
    "<b> 2. Ordinal level:</b> In this level of measurement, a range of values is assigned to a category, following \n",
    "which we rank these categories. However, we cannot distinguish between values in each category. \n",
    "\n",
    "This is data that can be categorized and ordered but the differences between categories are not measurable.\n"
   ]
  },
  {
   "cell_type": "markdown",
   "id": "1c1f8993",
   "metadata": {},
   "source": [
    "\n",
    "\n",
    "<b> Example:</b> \n",
    "\n",
    "The students who achieve a score of 90 or above will receive grade A, those between 80 and 89 will receive grade B, and \n",
    "those between 70 and 79 will receive grade C. We are unable to differentiate between students of any grade category.\n",
    "\n",
    " \n",
    "Example 2:\n",
    "\n",
    "- Survey responses (satisfied, neutral, dissatisfied)\n",
    "- Education level (high school, bachelor's, master's, PhD)\n",
    "- Rank in a competition (first, second, third)"
   ]
  },
  {
   "cell_type": "markdown",
   "id": "2a026e8f",
   "metadata": {},
   "source": [
    "### Quantitative data"
   ]
  },
  {
   "cell_type": "markdown",
   "id": "c2238d3a",
   "metadata": {
    "id": "c2238d3a"
   },
   "source": [
    "<b> 1. Interval level:</b> At this level, the rank data is categorized. Additionally, the distances between each \n",
    "interval on the scale is equivalent along the scale from low to high intervals.However, there is no true zero point. \n",
    "\n",
    "\n"
   ]
  },
  {
   "cell_type": "markdown",
   "id": "8dd35f96",
   "metadata": {},
   "source": [
    "<b>Example:</b> \n",
    "\n",
    "Celsius temperature measurement is an ideal example of this category.The difference between $100^{o}C$ and $200^{o}C$        is equivalent to the difference between $930^{o}C$  and $950^{o}C$ . But zero degree Celsius does not imply an             absence of temperature.\n",
    "\n"
   ]
  },
  {
   "cell_type": "markdown",
   "id": "ba510507",
   "metadata": {
    "id": "ba510507"
   },
   "source": [
    "<b> 2. Ratio level: </b> At this level, in addition to the interval level, there exists an absolute zero value. An \n",
    "                        absolute zero means that the variable is absent. \n",
    "\n",
    "\n",
    "\n",
    "\n",
    " "
   ]
  },
  {
   "cell_type": "markdown",
   "id": "cefb82b5",
   "metadata": {},
   "source": [
    "<b> Example: </b>\n",
    "\n",
    "\n",
    "- Height (e.g., a person who is 180 cm tall is twice as tall as someone who is 90 cm tall).\n",
    "- Weight (e.g., 0 kg means no weight, and 10 kg is twice as much as 5 kg).\n",
    "- Duration (e.g., 0 seconds means no time elapsed, and 10 seconds is twice as long as 5 seconds).\n"
   ]
  },
  {
   "cell_type": "markdown",
   "id": "87a2d0b6",
   "metadata": {
    "id": "87a2d0b6"
   },
   "source": [
    "# Measures of Central Tendency"
   ]
  },
  {
   "cell_type": "markdown",
   "id": "0a94081a",
   "metadata": {
    "id": "0a94081a"
   },
   "source": [
    "A measure of central tendency is a summary that describes the central position in a data set. These measures indicate where most values in a distribution fall and are also referred to as \n",
    "the central location of a distribution. It is also called a measure of central location. \n",
    "\n",
    "In statistics, the three most common measures of central tendency are the mean, median,and mode. Each of these measures \n",
    "calculates the location of the central point using a different method.\n"
   ]
  },
  {
   "cell_type": "markdown",
   "id": "e7ef878b",
   "metadata": {},
   "source": [
    "![centraltendency.png](https://s3.us-east-1.amazonaws.com/static2.simplilearn.com/lms/testpaper_images/ADSP/Advanced_Statistics/Probimages/Statistics_Fundamentals/centraltendency.png)"
   ]
  },
  {
   "cell_type": "markdown",
   "id": "a5266806",
   "metadata": {
    "id": "a5266806"
   },
   "source": [
    "\n",
    "<b> 1. Mean:</b> Mean is the most used measure of central tendency. It is used for both continuous and discrete data. \n",
    "\n",
    "To calculate the mean, add all the numbers in the data and divide the result by the number of data points.\n",
    "\n",
    "<b> Note: </b>the Mean is sensitive to outliers and skewed data. \n",
    "\n",
    "\n",
    " \n",
    "\n",
    "\n",
    "\n",
    " "
   ]
  },
  {
   "cell_type": "markdown",
   "id": "41c4ae90",
   "metadata": {},
   "source": [
    "Suppose we have a set of n numbers given by x1,x2, ……..,xn their mean is given by "
   ]
  },
  {
   "cell_type": "markdown",
   "id": "780793fd",
   "metadata": {
    "colab": {
     "base_uri": "https://localhost:8080/",
     "height": 71
    },
    "id": "81feecb4",
    "outputId": "9bb2cd44-f39b-4770-9df0-f34898f878db"
   },
   "source": [
    "\n",
    "\n",
    "![mean.png](https://s3.us-east-1.amazonaws.com/static2.simplilearn.com/lms/testpaper_images/ADSP/Advanced_Statistics/Probimages/Statistics_Fundamentals/mean.png)"
   ]
  },
  {
   "cell_type": "markdown",
   "id": "f1f40b6f",
   "metadata": {
    "id": "f1f40b6f"
   },
   "source": [
    "<b>Example:</b> \n",
    "\n",
    "The mean of the 7 numbers 4, 89, 54, -7, -9, 27 and 5 is given by (4+89+54-7-9+27)/7 = 158/7 = 23.28"
   ]
  },
  {
   "cell_type": "code",
   "execution_count": 1,
   "id": "739417f3",
   "metadata": {
    "id": "739417f3",
    "outputId": "0fd36c05-aae0-4f86-f30b-944acca28165"
   },
   "outputs": [
    {
     "data": {
      "text/plain": [
       "23.285714285714285"
      ]
     },
     "execution_count": 1,
     "metadata": {},
     "output_type": "execute_result"
    }
   ],
   "source": [
    "# Python code implementation of finding the mean \n",
    "import statistics\n",
    "statistics.mean([4,89,54,-7,-9,27,5])"
   ]
  },
  {
   "cell_type": "markdown",
   "id": "3633df12",
   "metadata": {
    "id": "3633df12"
   },
   "source": [
    "<b> 2. Median: </b> The Median is the middle number obtained by arranging the data in ascending or descending order. Hence, the median is not so sensitive to outliers and skewed data.When the total number of data points is odd, we get the exact middle number.However, when the total number of data points is even, we get two middle numbers We then take the average of the two middle numbers to get the median. \n",
    "\n",
    "\n",
    "<b> Example 1:</b> \n",
    "\n",
    "Consider the dataset with odd numbers x = 5, 76, 98, 32, 1, -6, 34, 3, -65\n",
    "\n",
    "Step 1: Arrange the numbers in ascending order i.e., -65, -6, 1, 3, 5, 32, 34, 76, 98\n",
    "\n",
    "Step 2: The middle number is the fifth number as there are nine numbers in total.\n",
    " So, the median of the given data set is 5\n",
    "\n",
    "<b> Example 2:</b> \n",
    "\n",
    "Consider the dataset with even numbers x = 5, 76, 98, 32, 1, -6, 34, 3, -65,99\n",
    "\n",
    "Step 1: Arrange the numbers in ascending order i.e., -65, -6, 1, 3, 5, 32, 34, 76, 98,99\n",
    "\n",
    "Step 2: Identify the middle numbers 5 and 32 \n",
    "\n",
    "Step 3: To calculate the median, take the average of these two numbers. So,\n",
    "the median of the given data set is (5+32)/2 = 18.5\n",
    "5. \n",
    "\n"
   ]
  },
  {
   "cell_type": "code",
   "execution_count": 2,
   "id": "3cd2ed12",
   "metadata": {
    "id": "3cd2ed12",
    "outputId": "13a689d6-9f97-47d1-9bdd-a7f83fbe8237"
   },
   "outputs": [
    {
     "data": {
      "text/plain": [
       "5.5"
      ]
     },
     "execution_count": 2,
     "metadata": {},
     "output_type": "execute_result"
    }
   ],
   "source": [
    "# Python code implementation of finding the median. \n",
    "x = (1, 2, 3, 4, 5, 6, 7, 8, 9, 10)\n",
    "statistics.median(x)"
   ]
  },
  {
   "cell_type": "markdown",
   "id": "89932302",
   "metadata": {
    "id": "89932302"
   },
   "source": [
    "<b> Mode: </b>Mode is the most frequently occurring data point in the set. The advantage of mode is that it can be calculated for both numerical and categorical data. The disadvantage is that sometimes it may not reflect the centre of \n",
    "distribution well. A few data points at one end of the spectrum may fit the definition of mode but can be far from the \n",
    "true central point. \n",
    "\n",
    "Suppose we want to infer the cell phone brand preference from categorical data. Let’s say we collect data from 100 people.\n",
    "\n",
    "\n",
    "<b> Preferred brand</b> $\\;\\;\\;\\;\\;\\;$ <b>No. of people</b> \n",
    "\n",
    "—---------------------- $\\;\\;\\;\\;\\;\\;$  —-------------- \n",
    "\n",
    "Nokia $\\;\\;\\;\\;\\;\\;\\;\\;\\;\\;\\;\\;\\;\\;\\;\\;\\;\\;\\;\\;\\;\\;\\;\\;$  12 \n",
    "\n",
    "Realme $\\;\\;\\;\\;\\;\\;\\;\\;\\;\\;\\;\\;\\;\\;\\;\\;\\;\\;\\;\\;\\;\\;$ 32 \n",
    "\n",
    "Apple $\\;\\;\\;\\;\\;\\;\\;\\;\\;\\;\\;\\;\\;\\;\\;\\;\\;\\;\\;\\;\\;\\;\\;\\;$  10 \n",
    "\n",
    "Samsung $\\;\\;\\;\\;\\;\\;\\;\\;\\;\\;\\;\\;\\;\\;\\;\\;\\;\\;\\;\\;$    36 \n",
    "\n",
    "Oppo  $\\;\\;\\;\\;\\;\\;\\;\\;\\;\\;\\;\\;\\;\\;\\;\\;\\;\\;\\;\\;\\;\\;\\;\\;\\;$   4 \n",
    "\n",
    "Vivo  $\\;\\;\\;\\;\\;\\;\\;\\;\\;\\;\\;\\;\\;\\;\\;\\;\\;\\;\\;\\;\\;\\;\\;\\;\\;\\;\\;$   6 \n",
    "\n",
    "In the above data, the most frequently occurring preference is Samsung which indicates the value of mode. \n",
    "\n",
    "\n"
   ]
  },
  {
   "cell_type": "code",
   "execution_count": 3,
   "id": "7a69b337",
   "metadata": {
    "id": "7a69b337",
    "outputId": "594a9763-9223-4c48-c1e7-9bc642e1b120"
   },
   "outputs": [
    {
     "data": {
      "text/plain": [
       "'Samsung'"
      ]
     },
     "execution_count": 3,
     "metadata": {},
     "output_type": "execute_result"
    }
   ],
   "source": [
    "# Python code implementation of finding the median.\n",
    "x = ['Nokia','Samsung','Samsung','Apple','Oppo','Vivo']\n",
    "statistics.mode(x)"
   ]
  },
  {
   "cell_type": "markdown",
   "id": "fe5a5c55",
   "metadata": {
    "id": "fe5a5c55"
   },
   "source": [
    "# Measures of Dispersion "
   ]
  },
  {
   "cell_type": "markdown",
   "id": "85867d7a",
   "metadata": {
    "id": "85867d7a"
   },
   "source": [
    "Measures of central tendency are insufficient to understand data distribution. While two different data sets can have the same mean or median, the variability of data around the mean can be high. Measures of dispersion give us an idea of data variability around the central point. \n",
    "\n",
    "\n",
    "<b> Uses: </b>\n",
    "\n",
    "1.\tIt shows the variation in the data that provides information such as how well the average of the sample represents the     entire data. Less variation gives close representation while with larger variation, the average may not closely   \n",
    "    represent all the values in the sample.\n",
    "\n",
    "2.\tIt enables us to compare two or more series with regard to their variations. It helps to determine consistency.\n",
    "\n",
    "3.\tIt also helps to control the causes behind the variations. \n",
    "\n"
   ]
  },
  {
   "cell_type": "markdown",
   "id": "f68b21cc",
   "metadata": {
    "id": "f68b21cc"
   },
   "source": [
    "The commonly used measures of dispersion are:\n",
    "\n",
    "\n",
    "\n",
    "![measure_of_dispersion.png](https://s3.us-east-1.amazonaws.com/static2.simplilearn.com/lms/testpaper_images/ADSP/Advanced_Statistics/Probimages/Statistics_Fundamentals/measure_of_dispersion.png)\n",
    "\n"
   ]
  },
  {
   "cell_type": "markdown",
   "id": "c44a5b73",
   "metadata": {
    "id": "c44a5b73"
   },
   "source": [
    "<b>1. Range:</b>\n",
    "Range is the difference between the largest and smallest data points in the set. It is sensitive to outliers and does \n",
    "not use every data point in the set. It also provides maximum and minimum values in the set.\n",
    "\n",
    "Since it is based on two extreme observations, it gets affected by fluctuations.Thus, the range is not a reliable \n",
    "measure of dispersion.\n"
   ]
  },
  {
   "cell_type": "markdown",
   "id": "7f678d80",
   "metadata": {},
   "source": [
    "\n",
    "<center>$Range = X_{max}$ – $X_{min}$</center>"
   ]
  },
  {
   "cell_type": "markdown",
   "id": "7a9a42ec",
   "metadata": {
    "id": "7a9a42ec"
   },
   "source": [
    "<b>2. Interquartile Range:</b> \n",
    "Interquartile Range is the difference between the 25th and 75th percentile. It describes the middle 50% of the \n",
    "observations. If the middle 50% of the data points are spaced wide apart, their interquartile range will be large. \n",
    "\n",
    "The interquartile range is useful even if the extreme values are not accurate as it is insensitive to them. However, it \n",
    "is not amenable to mathematical manipulation. \n",
    "\n",
    "<center><b>$IQR = Q_3 – Q_1</b></center>\n"
   ]
  },
  {
   "cell_type": "markdown",
   "id": "a33e51d7",
   "metadata": {
    "id": "a33e51d7"
   },
   "source": [
    "<b> 3.\tStandard Deviation:</b>\n",
    "Standard Deviation (SD) is the most popular measure of dispersion. It measures the spread of data around the mean.\n",
    "It is defined as the square root of the sum of squares of the deviation around the mean divided by the number of observations.\n",
    "\n",
    "\n",
    "\n",
    "\n",
    "\n"
   ]
  },
  {
   "cell_type": "markdown",
   "id": "ca46a934",
   "metadata": {},
   "source": [
    "<center><b>$SD =[(Σ_i (x_i – µ)2 ⁄ n] ½ $</b></center>"
   ]
  },
  {
   "cell_type": "markdown",
   "id": "71b1e3f4",
   "metadata": {},
   "source": [
    "<b>Note:</b>The advantage of SD is that if the data points are from a normal distribution, 68% of the observations lie at a \n",
    "distance of 1 SD from the mean, 95% between 2 SDs, and  99.7% between 3 SDs. The other benefit is that it can detect \n",
    "skewness. However, it is not an appropriate measure of dispersion for skewed data."
   ]
  },
  {
   "cell_type": "markdown",
   "id": "bf3873f0",
   "metadata": {},
   "source": [
    "It is the square root of the population variance. It is expressed in the same units as the original data, making it easier to interpret the magnitude of the spread."
   ]
  },
  {
   "cell_type": "code",
   "execution_count": null,
   "id": "59ac1b87",
   "metadata": {
    "id": "59ac1b87",
    "outputId": "11b3f4a9-3ff6-4703-ecec-e801a4a026fc"
   },
   "outputs": [
    {
     "name": "stdout",
     "output_type": "stream",
     "text": [
      "1.5811388300841898\n"
     ]
    }
   ],
   "source": [
    "# Python code implementation for Standard Deviation \n",
    "\n",
    "\n",
    "x = [1, 2, 3, 4, 5]\n",
    "print(statistics.stdev(x))"
   ]
  },
  {
   "cell_type": "markdown",
   "id": "d7f3bd87",
   "metadata": {
    "id": "d7f3bd87"
   },
   "source": [
    "<b>4. Variance </b>\n",
    "Variance is defined as the average of the squared differences from the Mean.\n",
    "\n",
    "\n",
    "\n",
    "Variance = [(Σi (xi – µ)2 ⁄ N]\n",
    "\n",
    "\n",
    "\n"
   ]
  },
  {
   "cell_type": "markdown",
   "id": "00e876fe",
   "metadata": {},
   "source": [
    "It is the squared deviation from the mean of all the values in the population. It represents the average squared difference from the mean. A larger variance indicates that the data points are spread out further from the mean, and a smaller variance indicates that the data points are clustered closer to the mean."
   ]
  },
  {
   "cell_type": "code",
   "execution_count": null,
   "id": "00ff987e",
   "metadata": {
    "id": "00ff987e",
    "outputId": "7b0c99ff-c938-4862-c8ce-5cc829097178"
   },
   "outputs": [
    {
     "name": "stdout",
     "output_type": "stream",
     "text": [
      "2.5\n"
     ]
    }
   ],
   "source": [
    "# Python code implementation for Standard Deviation \n",
    "\n",
    "\n",
    "x = [1, 2, 3, 4, 5]\n",
    "print(statistics.variance(x))"
   ]
  },
  {
   "cell_type": "markdown",
   "id": "ab5940ce",
   "metadata": {},
   "source": [
    "Consider the following population data:\n",
    "\n",
    "population = [10, 12, 15, 13, 11, 14, 16]\n",
    "\n",
    "The population mean (μ) is calculated to be 13.\n",
    "\n",
    "The population variance (σ²) is calculated to be 4.\n",
    "\n",
    "The population standard deviation (σ) is calculated to be the square root of the variance, which is 2.\n",
    "\n",
    "This indicates that the data points in the population are spread out with an average deviation of 2 units from the mean value of 13."
   ]
  },
  {
   "cell_type": "markdown",
   "id": "fb92a871",
   "metadata": {},
   "source": [
    "Variance is a measure of how much the values in a dataset differ from the mean (average) value of the dataset.\n",
    "\n",
    "Standard deviation is the square root of the variance. It provides a measure of the average distance of each value from the mean.\n",
    "\n",
    "Example:\n",
    "\n",
    "Suppose you have the following data: [2, 4, 4, 4, 5, 5, 7, 9].\n",
    "\n",
    "Mean: (2 + 4 + 4 + 4 + 5 + 5 + 7 + 9) / 8 = 5\n",
    "\n",
    "Variance:\n",
    "\n",
    "- Differences from the mean: [-3, -1, -1, -1, 0, 0, 2, 4]\n",
    "\n",
    "- Squared differences: [9, 1, 1, 1, 0, 0, 4, 16]\n",
    "\n",
    "- Average of squared differences: (9 + 1 + 1 + 1 + 0 + 0 + 4 + 16) / 8 = 4\n",
    "\n",
    "Standard Deviation: \n",
    "\n",
    "- √4 = 2"
   ]
  },
  {
   "cell_type": "markdown",
   "id": "3f1637c7",
   "metadata": {
    "id": "3f1637c7"
   },
   "source": [
    "## Standard Deviation and Variance for Population and Sample Data\n",
    " \n"
   ]
  },
  {
   "cell_type": "markdown",
   "id": "d7ecc761",
   "metadata": {
    "id": "d7ecc761"
   },
   "source": [
    "Suppose there are N values present in a data set. To calculate the standard deviation and Variance, use: \n",
    "\n",
    "1) Population divided by N when calculating the SD and Variance \n",
    "\n",
    "2) Sample divided by N-1 when calculating the SD and Variance\n",
    "\n",
    "The formula for calculating Standard Deviation and Variance changes while dealing with \n",
    "population and sample data.\n",
    "\n",
    "![SD_and_v.png](https://s3.us-east-1.amazonaws.com/static2.simplilearn.com/lms/testpaper_images/ADSP/Advanced_Statistics/Probimages/Statistics_Fundamentals/SD_and_v.png)"
   ]
  },
  {
   "cell_type": "markdown",
   "id": "20ef19af",
   "metadata": {
    "id": "20ef19af"
   },
   "source": [
    "## How to Calculate the Variance and Standard Deviation?\n"
   ]
  },
  {
   "cell_type": "markdown",
   "id": "e004a4a3",
   "metadata": {
    "id": "e004a4a3"
   },
   "source": [
    "Step 1: Compute the square of the difference between each value and the sample mean\n",
    "\n",
    "Step 2: Add those values up\n",
    "\n",
    "Step 3: Divide the sum by N-1 to obtain the Variance\n",
    "\n",
    "Step 4: Take the square root to obtain the Standard Deviation\n"
   ]
  },
  {
   "cell_type": "markdown",
   "id": "e9ecfb17",
   "metadata": {
    "id": "e9ecfb17"
   },
   "source": [
    "## Why Do We Divide Sample by (n-1) Instead of n?"
   ]
  },
  {
   "cell_type": "markdown",
   "id": "92e85408",
   "metadata": {
    "id": "92e85408"
   },
   "source": [
    "In the sample variance formula, the denominator has n-1 instead of n, where n is the number of observations in the sample. The use of n-1 is the Bessel’s correction method. We use this method as it corrects the bias in the estimation of the population variance. \n"
   ]
  },
  {
   "cell_type": "markdown",
   "id": "b0d0e082",
   "metadata": {
    "id": "b0d0e082"
   },
   "source": [
    "## Random Variables "
   ]
  },
  {
   "cell_type": "markdown",
   "id": "44cbdd48",
   "metadata": {},
   "source": [
    "A random variable is a set of all the possible values from a random experiment."
   ]
  },
  {
   "cell_type": "markdown",
   "id": "fe3c445e",
   "metadata": {},
   "source": [
    "![random.PNG](https://s3.us-east-1.amazonaws.com/static2.simplilearn.com/lms/testpaper_images/ADSP/Advanced_Statistics/Probimages/Statistics_Fundamentals/random.PNG)"
   ]
  },
  {
   "cell_type": "markdown",
   "id": "65705a78",
   "metadata": {
    "id": "65705a78"
   },
   "source": [
    "Every study has certain characteristics that are expressed numerically. Probabilities are assigned to various\n",
    "plausible values taken by the characteristic for further study. This is where the concepts of random variables\n",
    "and probability distribution come into picture. \n",
    "\n",
    "<b>Example:</b>\n",
    "\n",
    "A laptop manufacturing unit produces non-defective and defective pieces with probabilities of 0.9 and 0.1 respectively.\n",
    "Every non-defective piece yields a profit of USD 100, while every defective piece leads to a loss of USD 10 due \n",
    "to wasted material, man, and machine hours.  \n",
    "\n",
    "![exampleformanufacture.PNG](https://s3.us-east-1.amazonaws.com/static2.simplilearn.com/lms/testpaper_images/ADSP/Advanced_Statistics/Probimages/Statistics_Fundamentals/exampleformanufacture.PNG)\n",
    "\n"
   ]
  },
  {
   "cell_type": "markdown",
   "id": "49f0177e",
   "metadata": {},
   "source": [
    "Let’s assume that 1000 pieces are produced during a given period.  \n",
    "\n",
    "Based on the concept of probability as relative frequency:\n",
    "\n",
    "\n",
    "![Examplemanufacture.PNG](https://s3.us-east-1.amazonaws.com/static2.simplilearn.com/lms/testpaper_images/ADSP/Advanced_Statistics/Probimages/Statistics_Fundamentals/Examplemanufacture.PNG)\n",
    "\n",
    "\n",
    "Estimated number of non-defectives will be 900 and the estimated profit from the same will be USD 90,000. \n",
    "The estimated number of defective pieces will be 100 and the estimated loss from defectives will be USD 1000. \n",
    "Now, the net profit will be USD 89,000 and the net profit per piece will be USD 89. \n",
    "\n",
    " \n",
    "\n"
   ]
  },
  {
   "cell_type": "markdown",
   "id": "900023d6",
   "metadata": {},
   "source": [
    "\n",
    "![examplemanufacture3.PNG](https://s3.us-east-1.amazonaws.com/static2.simplilearn.com/lms/testpaper_images/ADSP/Advanced_Statistics/Probimages/Statistics_Fundamentals/examplemanufacture3.PNG)\n",
    "\n",
    "\n",
    "\n",
    " \n",
    "\n"
   ]
  },
  {
   "cell_type": "markdown",
   "id": "623ab57c",
   "metadata": {},
   "source": [
    "Here, each value taken by the characteristic is multiplied by the corresponding probability and added on. "
   ]
  },
  {
   "cell_type": "markdown",
   "id": "c73468da",
   "metadata": {},
   "source": [
    "### Random Variable Examples:"
   ]
  },
  {
   "cell_type": "markdown",
   "id": "6faa0ef6",
   "metadata": {},
   "source": [
    "\n",
    "\n",
    "\n",
    "\n",
    "\n",
    "![randomexamples.PNG](https://s3.us-east-1.amazonaws.com/static2.simplilearn.com/lms/testpaper_images/ADSP/Advanced_Statistics/Probimages/Statistics_Fundamentals/randomexamples.PNG)\n",
    "\n",
    "\n"
   ]
  },
  {
   "cell_type": "markdown",
   "id": "0dc0aa2c",
   "metadata": {
    "id": "0dc0aa2c"
   },
   "source": [
    "## Sets "
   ]
  },
  {
   "cell_type": "markdown",
   "id": "3f3db5b4",
   "metadata": {
    "id": "3f3db5b4"
   },
   "source": [
    "A set is a well-defined collection of objects. Every member of a set is called an element.Two sets are equal if they have the same elements. \n",
    "\n",
    "A null set has no elements. If every element of set X is present in set Y, X is a subset of Y. \n",
    "\n",
    "A set is usually denoted by capital letters like X, Y, A, B, etc. \n",
    "\n",
    "The elements of a set are usually denoted by small letters like a, b, x, y, etc. \n",
    "\n",
    "The set is represented by enclosing its elements within curly braces. \n",
    "\n",
    "\n"
   ]
  },
  {
   "cell_type": "markdown",
   "id": "aec56b5f",
   "metadata": {},
   "source": [
    "### <b> Example:</b> "
   ]
  },
  {
   "cell_type": "markdown",
   "id": "beddf22f",
   "metadata": {},
   "source": [
    "\n",
    "1. A set with elements 2,6,4,9,12 is denoted as shown below:\n",
    "\n",
    "\n",
    " \n",
    "\n",
    "\n"
   ]
  },
  {
   "attachments": {},
   "cell_type": "markdown",
   "id": "592799eb",
   "metadata": {},
   "source": [
    "![set1example.PNG](https://s3.us-east-1.amazonaws.com/static2.simplilearn.com/lms/testpaper_images/ADSP/Advanced_Statistics/Probimages/Statistics_Fundamentals/Statistics_Notebookupdated/set1example.PNG)"
   ]
  },
  {
   "attachments": {},
   "cell_type": "markdown",
   "id": "4034755a",
   "metadata": {},
   "source": [
    "\n",
    "2. A null set is denoted by {}. \n",
    "\n",
    "![nullset.PNG](https://s3.us-east-1.amazonaws.com/static2.simplilearn.com/lms/testpaper_images/ADSP/Advanced_Statistics/Probimages/Statistics_Fundamentals/Statistics_Notebookupdated/nullset.PNG)\n"
   ]
  },
  {
   "attachments": {},
   "cell_type": "markdown",
   "id": "cfc9c917",
   "metadata": {},
   "source": [
    "3. A set can also be represented by a rule, like a set of even numbers. In that case, it will be \n",
    "represented as shown below:\n",
    "\n",
    "![set3ex.PNG](https://s3.us-east-1.amazonaws.com/static2.simplilearn.com/lms/testpaper_images/ADSP/Advanced_Statistics/Probimages/Statistics_Fundamentals/Statistics_Notebookupdated/set3ex.PNG)"
   ]
  },
  {
   "cell_type": "markdown",
   "id": "e8582c77",
   "metadata": {
    "id": "e8582c77"
   },
   "source": [
    "### Using Sets in Probability"
   ]
  },
  {
   "cell_type": "markdown",
   "id": "319aec30",
   "metadata": {
    "id": "319aec30"
   },
   "source": [
    "There are many possible outcomes to a statistical experiment. The set of all outcomes is called sample space.\n",
    "\n",
    "A particular outcome or a combination of outcomes is a subset of the sample space called an event.\n"
   ]
  },
  {
   "cell_type": "markdown",
   "id": "8207284e",
   "metadata": {
    "id": "8207284e"
   },
   "source": [
    "### Set Operations: \n"
   ]
  },
  {
   "cell_type": "markdown",
   "id": "77223d00",
   "metadata": {
    "id": "77223d00"
   },
   "source": [
    "Consider a sample space S = {a, c, d, f, g, i, k} and two subsets of S, A = {a, c, d} and B = { d, f, i} \n",
    "\n"
   ]
  },
  {
   "cell_type": "markdown",
   "id": "a7f44c7c",
   "metadata": {
    "id": "a7f44c7c"
   },
   "source": [
    "<b>1. Union of sets:</b> The union of two sets is the set with elements belonging to either one or both. It is denoted by U. \n",
    "\n",
    "<b> Example:</b>\n",
    "\n",
    "<center><b>A U B = {a, c, d, f, i}</b></center>\n",
    "\n",
    "\n",
    "\n",
    "<b>2. Intersection of two sets:</b> The intersection of two sets is the set with elements common to both sets. It is denoted\n",
    "      by ∩.\n",
    "\n",
    "<b> Example:</b>\n",
    "\n",
    "<center><b>A ∩ B = {d}</b></center>\n",
    "\n",
    "<b>3. Complement of a set:</b> The complement of a set is the set whose elements are present in the sample space but \n",
    "      not in the set. It is denoted by the superscript ‘c’ or c.\n",
    "\n",
    "<b> Example:</b>\n",
    "\n",
    "<center><b>Ac = {f, g, i, k} and Bc = {a, c, g, k}</b></center>\n",
    "\n",
    " \n"
   ]
  },
  {
   "cell_type": "markdown",
   "id": "68a84739",
   "metadata": {
    "id": "68a84739"
   },
   "source": [
    "## Measures of Shape (Skewness) "
   ]
  },
  {
   "cell_type": "markdown",
   "id": "bcdc0202",
   "metadata": {
    "id": "bcdc0202"
   },
   "source": [
    "Measures of shape describe the distribution of data in a data set. For numerical data,the histogram is used to describe \n",
    "the distribution shape as low and high values on the x-axis. \n",
    "\n",
    "The same is not possible for categorical data. Although a histogram gives the overall Shape, two quantitative measures of shape, skewness, and kurtosis are more precise.\n"
   ]
  },
  {
   "cell_type": "markdown",
   "id": "48c89bed",
   "metadata": {
    "id": "48c89bed"
   },
   "source": [
    "### What Is Skewness? "
   ]
  },
  {
   "cell_type": "markdown",
   "id": "689c7196",
   "metadata": {
    "id": "689c7196"
   },
   "source": [
    "Skewness is the amount and direction of departure from horizontal symmetry. Any distribution is symmetric if the left \n",
    "and right of the center point look the same.\n",
    "\n",
    "In many statistical inferences, we need the distribution to be normal or nearly normal.Skewness is vital as it helps \n",
    "us test for normality. In a normal distribution, skewness is 0.So, if the skewness is close to 0, \n",
    "it is nearly normal  distribution.\n",
    "\n",
    "\n",
    "\n",
    "\n"
   ]
  },
  {
   "cell_type": "markdown",
   "id": "1a4685b5",
   "metadata": {},
   "source": [
    "### Formula for Skewness"
   ]
  },
  {
   "cell_type": "markdown",
   "id": "807a91dc",
   "metadata": {},
   "source": [
    "For a univariate data $X_1,X_2,.....X_n$ skewness is given by:"
   ]
  },
  {
   "attachments": {},
   "cell_type": "markdown",
   "id": "6b059e0b",
   "metadata": {},
   "source": [
    "![skewformula.PNG](https://s3.us-east-1.amazonaws.com/static2.simplilearn.com/lms/testpaper_images/ADSP/Advanced_Statistics/Probimages/Statistics_Fundamentals/Statistics_Notebookupdated/skewformula.PNG)"
   ]
  },
  {
   "cell_type": "markdown",
   "id": "41290ab8",
   "metadata": {},
   "source": [
    "In a normal distribution, the graph appears as a classical, symmetrical \"bell-shaped curve.\"The mean, average, and \n",
    "mode or maximum point on the curve are equal if the tails on either side of the curve are exact mirror images of \n",
    "each other.\n",
    "\n",
    "When a distribution is skewed to the left, the tail on the curve's lefthand side is longer than the tail on the \n",
    "right-hand side, and the mean is less than the mode. This situation is called negative skewness.\n",
    "\n",
    "    example:\n",
    "        Theme park wait times can be left-skewed on weekdays or during off-peak seasons. Most of the time, the lines are short or moderate. However, on weekends or during peak season, wait times can surge significantly. The median wait time might be a better indicator of the typical experience than the mean, which could be skewed by the occasional very long wait times.\n",
    "\n",
    "When a distribution is skewed to the right, the tail on the curve's right-hand side is longer than the tail on the left-hand side, and the mean is greater than the mode. This situation  is called positive skewness.\n",
    "\n",
    "    example:\n",
    "        Response Times in a Customer Service Call Center:\n",
    "\n",
    "    Imagine a call center where most calls are resolved quickly and efficiently. However, there might be a few complex cases that take a significantly longer time to address. This would lead to a right-skewed distribution of response times. The mean response time might be higher than the median, as the few very long calls significantly influence the average.\n"
   ]
  },
  {
   "attachments": {},
   "cell_type": "markdown",
   "id": "cea3b055",
   "metadata": {},
   "source": [
    "![meanmedianmode.png](https://s3.us-east-1.amazonaws.com/static2.simplilearn.com/lms/testpaper_images/ADSP/Advanced_Statistics/Probimages/Statistics_Fundamentals/Statistics_Notebookupdated/meanmedianmode.png)"
   ]
  },
  {
   "cell_type": "code",
   "execution_count": 2,
   "id": "16b2a403",
   "metadata": {
    "id": "d5adacdd",
    "outputId": "321bf426-e530-4cd7-9b40-1c575478c95c"
   },
   "outputs": [
    {
     "name": "stdout",
     "output_type": "stream",
     "text": [
      "0.2857142857142857\n"
     ]
    }
   ],
   "source": [
    "# Importing numpy and statsmodels\n",
    "import numpy as np\n",
    "from statsmodels.stats.stattools import medcouple\n",
    "from statsmodels.stats.stattools import robust_skewness\n",
    "\n",
    "x = np.array([1, 2, 3, 4, 7, 8])\n",
    "# Using statsmodels.robust_skewness() method\n",
    "skewness = medcouple(x)\n",
    "\n",
    "print(skewness)\n"
   ]
  },
  {
   "cell_type": "markdown",
   "id": "86e2a146",
   "metadata": {},
   "source": [
    "## Measures of Shape (Kurtosis) "
   ]
  },
  {
   "cell_type": "markdown",
   "id": "dc24f034",
   "metadata": {},
   "source": [
    "\n",
    "\n",
    "Kurtosis is the second measure of shape. It measures how heavy-tailed or light-tailed the distribution is relative to \n",
    "a normal distribution. Data with high kurtosis tend to have heavy tails or outliers. If the kurtosis is low,\n",
    "there will be no outliers. A uniform distribution is an extreme case of low kurtosis.  "
   ]
  },
  {
   "cell_type": "markdown",
   "id": "77be9b2e",
   "metadata": {},
   "source": [
    "### Formula for Kurtosis"
   ]
  },
  {
   "cell_type": "markdown",
   "id": "a65bb1da",
   "metadata": {},
   "source": [
    "For a univariate data $X_1,X_2,.....X_n$ kurtosis is given by:"
   ]
  },
  {
   "attachments": {},
   "cell_type": "markdown",
   "id": "70d0ad31",
   "metadata": {},
   "source": [
    "![kurtoformula.PNG](https://s3.us-east-1.amazonaws.com/static2.simplilearn.com/lms/testpaper_images/ADSP/Advanced_Statistics/Probimages/Statistics_Fundamentals/Statistics_Notebookupdated/kurtoformula.PNG)"
   ]
  },
  {
   "cell_type": "markdown",
   "id": "fdea3850",
   "metadata": {},
   "source": [
    "The kurtosis for a normal distribution is 3. So sometimes the following definition of kurtosis is used. \n",
    "It’s called excess kurtosis.  "
   ]
  },
  {
   "attachments": {},
   "cell_type": "markdown",
   "id": "cf49d172",
   "metadata": {},
   "source": [
    "![Kurtoformula2.PNG](https://s3.us-east-1.amazonaws.com/static2.simplilearn.com/lms/testpaper_images/ADSP/Advanced_Statistics/Probimages/Statistics_Fundamentals/Statistics_Notebookupdated/Kurtoformula2.PNG)"
   ]
  },
  {
   "cell_type": "markdown",
   "id": "dacb1293",
   "metadata": {},
   "source": [
    "This definition is used so that normal distribution has zero kurtosis. Also, positive excess kurtosis means heavy-tailed \n",
    "distribution and negative excess kurtosis means light-tailed distribution.  "
   ]
  },
  {
   "attachments": {},
   "cell_type": "markdown",
   "id": "6aa6310d",
   "metadata": {},
   "source": [
    "![positivenegativekurt.PNG](https://s3.us-east-1.amazonaws.com/static2.simplilearn.com/lms/testpaper_images/ADSP/Advanced_Statistics/Probimages/Statistics_Fundamentals/Statistics_Notebookupdated/positivenegativekurt.PNG)"
   ]
  },
  {
   "cell_type": "code",
   "execution_count": 7,
   "id": "c88efd2a",
   "metadata": {},
   "outputs": [
    {
     "data": {
      "text/plain": [
       "(-0.5988228527065362,\n",
       " -0.04888458916942784,\n",
       " -0.5052271228708025,\n",
       " -0.39005747798595314)"
      ]
     },
     "execution_count": 7,
     "metadata": {},
     "output_type": "execute_result"
    }
   ],
   "source": [
    "# Python code implementation for kurtosis\n",
    "import numpy as np \n",
    "\n",
    "from statsmodels.stats.stattools import robust_kurtosis \n",
    "\n",
    "x = np.array([2,4,5,7,8,9,11,15]) \n",
    "\n",
    "kurtosis  = robust_kurtosis(x) \n",
    "kurtosis"
   ]
  },
  {
   "cell_type": "markdown",
   "id": "9fd2f4c6",
   "metadata": {},
   "source": [
    "example:\n",
    "\n",
    "Stock Market Returns:\n",
    "\n",
    "Stock market returns often exhibit leptokurtic (fat-tailed) behavior. While most days see relatively small price movements, there can be occasional periods of significant gains or losses. This results in a distribution with more extreme events (large gains/losses) than a normal distribution would predict.\n",
    "\n",
    "Number of Manufacturing Defects:\n",
    "\n",
    "In a well-controlled manufacturing process, the number of defects per unit might follow a platykurtic distribution. Most units are likely to have zero or very few defects. This indicates a consistent and reliable production process with minimal outliers (highly defective units)."
   ]
  },
  {
   "cell_type": "markdown",
   "id": "fd662f8d",
   "metadata": {},
   "source": []
  },
  {
   "cell_type": "markdown",
   "id": "d303ee54",
   "metadata": {},
   "source": [
    "## Covariance and Correlation"
   ]
  },
  {
   "cell_type": "markdown",
   "id": "b7cfb1b0",
   "metadata": {},
   "source": [
    "Covariance and correlation measure the relationship and dependency between two variables. While covariance gives \n",
    "the direction of the linear relationship, correlation gives both direction and strength. Therefore, correlation is \n",
    "a function of covariance. Furthermore, correlation values are standardized while covariance values are not.  "
   ]
  },
  {
   "cell_type": "markdown",
   "id": "02544c9c",
   "metadata": {},
   "source": [
    "### Covariance"
   ]
  },
  {
   "cell_type": "markdown",
   "id": "54e5c238",
   "metadata": {},
   "source": [
    " The covariance of x and y can be represented with the following equation:"
   ]
  },
  {
   "attachments": {},
   "cell_type": "markdown",
   "id": "e5c378f1",
   "metadata": {},
   "source": [
    "![cov.PNG](https://s3.us-east-1.amazonaws.com/static2.simplilearn.com/lms/testpaper_images/ADSP/Advanced_Statistics/Probimages/Statistics_Fundamentals/Statistics_Notebookupdated/cov.PNG)"
   ]
  },
  {
   "cell_type": "markdown",
   "id": "149acac6",
   "metadata": {},
   "source": [
    "### Covariance Formula for Population"
   ]
  },
  {
   "attachments": {},
   "cell_type": "markdown",
   "id": "526118c7",
   "metadata": {},
   "source": [
    "![covpopu.PNG](https://s3.us-east-1.amazonaws.com/static2.simplilearn.com/lms/testpaper_images/ADSP/Advanced_Statistics/Probimages/Statistics_Fundamentals/Statistics_Notebookupdated/covpopu.PNG)"
   ]
  },
  {
   "cell_type": "markdown",
   "id": "e7959b7a",
   "metadata": {},
   "source": [
    "### Covariance Formula for Sample"
   ]
  },
  {
   "attachments": {},
   "cell_type": "markdown",
   "id": "945a5bb0",
   "metadata": {},
   "source": [
    "![covsample.PNG](https://s3.us-east-1.amazonaws.com/static2.simplilearn.com/lms/testpaper_images/ADSP/Advanced_Statistics/Probimages/Statistics_Fundamentals/Statistics_Notebookupdated/covsample.PNG)"
   ]
  },
  {
   "cell_type": "markdown",
   "id": "22a1e4ca",
   "metadata": {},
   "source": [
    "Where:\n",
    "\n",
    "$x_i$ is the $i^{th}$ observation in variable x\n",
    "\n",
    "$\\bar{x}$ is the mean for variable x\n",
    "\n",
    "$y_i$ is the $i^{th}$ observation in variable y\n",
    "\n",
    "$\\bar{y}$ is the mean for variable y\n",
    "\n",
    "N is the number of observations"
   ]
  },
  {
   "cell_type": "code",
   "execution_count": null,
   "id": "0f270560",
   "metadata": {},
   "outputs": [],
   "source": [
    "# Python implementation of the covariance of two variables"
   ]
  },
  {
   "cell_type": "code",
   "execution_count": 13,
   "id": "fad51f43",
   "metadata": {},
   "outputs": [
    {
     "name": "stdout",
     "output_type": "stream",
     "text": [
      "           X    Y     Z\n",
      "X  10.666667 -0.8   5.0\n",
      "Y  -0.800000  4.3  -3.5\n",
      "Z   5.000000 -3.5  11.5\n"
     ]
    }
   ],
   "source": [
    "import pandas as pd\n",
    "df = pd.DataFrame({\"X\":[0, 1, 2, 3, 5, 9],  \n",
    "                   \"Y\":[11, 5, 8, 6, 7, 8], \n",
    "                   \"Z\":[2, 5, 10, 11, 9, 8]}) \n",
    "print(df.cov())"
   ]
  },
  {
   "cell_type": "markdown",
   "id": "87b1cbf6",
   "metadata": {},
   "source": [
    "The positive value denotes that both the variables move in the same direction."
   ]
  },
  {
   "cell_type": "markdown",
   "id": "37f05e68",
   "metadata": {},
   "source": [
    "### Correlation"
   ]
  },
  {
   "cell_type": "markdown",
   "id": "21119ba5",
   "metadata": {},
   "source": [
    "Correlation coefficient is also called the Pearson correlation coefficient.  \n",
    "\n",
    "The correlation coefficient of two variables by dividing their covariance with the product of their individual standard \n",
    "deviations. Since the standard deviation measures the absolute variability of the distribution, this division ensures \n",
    "that the correlation coefficient scales down to the -1 to +1 range. "
   ]
  },
  {
   "cell_type": "markdown",
   "id": "64317866",
   "metadata": {},
   "source": [
    "### Formula for Correlation Coefficient"
   ]
  },
  {
   "attachments": {},
   "cell_type": "markdown",
   "id": "7e40273b",
   "metadata": {},
   "source": [
    "![corelation.PNG](https://s3.us-east-1.amazonaws.com/static2.simplilearn.com/lms/testpaper_images/ADSP/Advanced_Statistics/Probimages/Statistics_Fundamentals/Statistics_Notebookupdated/corelation.PNG)"
   ]
  },
  {
   "cell_type": "markdown",
   "id": "a76bdf78",
   "metadata": {},
   "source": [
    "Where:\n",
    "    \n",
    "$S_x$, $S_y$ are standard deviations of x and y respectively. \n",
    "\n"
   ]
  },
  {
   "cell_type": "code",
   "execution_count": 15,
   "id": "544219fd",
   "metadata": {},
   "outputs": [
    {
     "name": "stdout",
     "output_type": "stream",
     "text": [
      "          X         Y         Z\n",
      "X  1.000000 -0.118125  0.451447\n",
      "Y -0.118125  1.000000 -0.497720\n",
      "Z  0.451447 -0.497720  1.000000\n"
     ]
    }
   ],
   "source": [
    "import pandas as pd\n",
    "df = pd.DataFrame({\"X\":[0, 1, 2, 3, 5, 9],  \n",
    "                   \"Y\":[11, 5, 8, 6, 7, 8], \n",
    "                   \"Z\":[2, 5, 10, 11, 9, 8]}) \n",
    "print(df.corr())"
   ]
  },
  {
   "cell_type": "markdown",
   "id": "1faf6b6a",
   "metadata": {},
   "source": [
    "The closer it is to -1 or 1, the higher the correlation. \n",
    "\n",
    "A positive correlation coefficient implies that when one variable increases, the other also increases, and vice versa. "
   ]
  },
  {
   "cell_type": "markdown",
   "id": "14ed5bc9",
   "metadata": {},
   "source": [
    "**Note:** Pearson, Kendall and Spearman correlation are currently computed using pairwise complete observations."
   ]
  },
  {
   "cell_type": "markdown",
   "id": "f3b506a4",
   "metadata": {},
   "source": [
    "# Multicollinearity"
   ]
  },
  {
   "cell_type": "markdown",
   "id": "7d448e96",
   "metadata": {},
   "source": [
    "Multicollinearity occurs when two or more predictor variables in a regression model are highly correlated, making it difficult to assess the individual effect of each predictor. It can be detected using variance inflation factor (VIF) or correlation matrices. To address it, you might remove one of the correlated variables, combine them, or use regularization techniques like Ridge or Lasso regression."
   ]
  }
 ],
 "metadata": {
  "colab": {
   "provenance": []
  },
  "kernelspec": {
   "display_name": "Python 3 (ipykernel)",
   "language": "python",
   "name": "python3"
  },
  "language_info": {
   "codemirror_mode": {
    "name": "ipython",
    "version": 3
   },
   "file_extension": ".py",
   "mimetype": "text/x-python",
   "name": "python",
   "nbconvert_exporter": "python",
   "pygments_lexer": "ipython3",
   "version": "3.12.1"
  }
 },
 "nbformat": 4,
 "nbformat_minor": 5
}
