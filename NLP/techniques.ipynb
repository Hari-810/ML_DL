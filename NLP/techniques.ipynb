{
 "cells": [
  {
   "cell_type": "markdown",
   "metadata": {},
   "source": [
    "# Tokenization"
   ]
  },
  {
   "cell_type": "markdown",
   "metadata": {},
   "source": [
    "Breaking down text into smaller units such as words, phrases, or sentences."
   ]
  },
  {
   "cell_type": "markdown",
   "metadata": {},
   "source": [
    "Tokenization is the process of breaking down a text into smaller units called tokens. \n",
    "\n",
    "These tokens could be words, subwords, characters, or even phrases, depending on the specific tokenization technique used. \n",
    "\n",
    "Tokenization is a fundamental step in natural language processing (NLP) tasks as it helps in preparing the text data for further analysis."
   ]
  },
  {
   "cell_type": "markdown",
   "metadata": {},
   "source": [
    "## Tokenization techniques\n",
    "\n",
    "\n",
    "Each tokenization technique serves different purposes based on the requirements of the NLP task at hand. For instance, word tokenization is commonly used for tasks like text classification, while sentence tokenization is useful for tasks like machine translation or summarization. Subword tokenization, on the other hand, is beneficial for handling out-of-vocabulary words and morphologically rich languages.\n",
    "\n",
    "\n",
    "Here are some common tokenization techniques with examples:"
   ]
  },
  {
   "cell_type": "markdown",
   "metadata": {},
   "source": [
    "### Word Tokenization:\n",
    "\n",
    "Example: \"Tokenization is an important NLP task.\"\n",
    "\n",
    "Tokens: [\"Tokenization\", \"is\", \"an\", \"important\", \"NLP\", \"task\", \".\"]"
   ]
  },
  {
   "cell_type": "markdown",
   "metadata": {},
   "source": [
    "### Sentence Tokenization:\n",
    "\n",
    "Example: \"Tokenization is an important NLP task. It breaks down text into smaller units.\"\n",
    "\n",
    "Tokens: [\"Tokenization is an important NLP task.\", \"It breaks down text into smaller units.\"]"
   ]
  },
  {
   "cell_type": "markdown",
   "metadata": {},
   "source": [
    "### Whitespace Tokenization:\n",
    "\n",
    "Example: \"Tokenization separates words by spaces.\"\n",
    "\n",
    "Tokens: [\"Tokenization\", \"separates\", \"words\", \"by\", \"spaces.\"]\n"
   ]
  },
  {
   "cell_type": "markdown",
   "metadata": {},
   "source": [
    "### Character Tokenization:\n",
    "\n",
    "Example: \"Tokenization\"\n",
    "\n",
    "Tokens: [\"T\", \"o\", \"k\", \"e\", \"n\", \"i\", \"z\", \"a\", \"t\", \"i\", \"o\", \"n\"]"
   ]
  },
  {
   "cell_type": "markdown",
   "metadata": {},
   "source": [
    "### Subword Tokenization (e.g., Byte-Pair Encoding, WordPiece):\n",
    "\n",
    "Example: \"Tokenization\"\n",
    "\n",
    "Tokens: [\"To\", \"ken\", \"iz\", \"at\", \"ion\"]"
   ]
  },
  {
   "cell_type": "markdown",
   "metadata": {},
   "source": [
    "### Phrasal Tokenization:\n",
    "\n",
    "Example: \"Natural language processing\"\n",
    "\n",
    "Tokens: [\"Natural language processing\"]"
   ]
  },
  {
   "cell_type": "markdown",
   "metadata": {},
   "source": [
    "### Customized Tokenization:\n",
    "\n",
    "Example: \"email@example.com\"\n",
    "\n",
    "Tokens: [\"email\", \"@\", \"example\", \".\", \"com\"]"
   ]
  },
  {
   "cell_type": "markdown",
   "metadata": {},
   "source": [
    "## Natural Language Toolkit (NLTK) and the spaCy library"
   ]
  },
  {
   "cell_type": "markdown",
   "metadata": {},
   "source": [
    "### Word Tokenization with NLTK:"
   ]
  },
  {
   "cell_type": "code",
   "execution_count": null,
   "metadata": {},
   "outputs": [],
   "source": [
    "#pip install nltk"
   ]
  },
  {
   "cell_type": "code",
   "execution_count": 5,
   "metadata": {},
   "outputs": [
    {
     "name": "stderr",
     "output_type": "stream",
     "text": [
      "[nltk_data] Downloading package punkt to\n",
      "[nltk_data]     C:\\Users\\HariharanSivakumar\\AppData\\Roaming\\nltk_data.\n",
      "[nltk_data]     ..\n",
      "[nltk_data]   Package punkt is already up-to-date!\n"
     ]
    }
   ],
   "source": [
    "import nltk\n",
    "nltk.download('punkt')\n",
    "\n",
    "from nltk.tokenize import word_tokenize\n",
    "\n"
   ]
  },
  {
   "cell_type": "code",
   "execution_count": 6,
   "metadata": {},
   "outputs": [
    {
     "name": "stdout",
     "output_type": "stream",
     "text": [
      "Tokenized Data:\n",
      "['Tokenization', 'is', 'an', 'important', 'NLP', 'task', '.']\n"
     ]
    }
   ],
   "source": [
    "\n",
    "text = \"Tokenization is an important NLP task.\"\n",
    "tokens = word_tokenize(text)\n",
    "print(\"Tokenized Data:\")\n",
    "print(tokens)"
   ]
  },
  {
   "cell_type": "markdown",
   "metadata": {},
   "source": [
    "### Sentence Tokenization with NLTK"
   ]
  },
  {
   "cell_type": "code",
   "execution_count": 24,
   "metadata": {},
   "outputs": [
    {
     "name": "stdout",
     "output_type": "stream",
     "text": [
      "['Tokenization is an important NLP task.', 'It breaks down text into smaller units.']\n"
     ]
    }
   ],
   "source": [
    "from nltk.tokenize import sent_tokenize\n",
    "\n",
    "text = \"Tokenization is an important NLP task. It breaks down text into smaller units.\"\n",
    "sentences = sent_tokenize(text)\n",
    "print(sentences)\n"
   ]
  },
  {
   "cell_type": "markdown",
   "metadata": {},
   "source": [
    "# Stop Words Removal"
   ]
  },
  {
   "cell_type": "markdown",
   "metadata": {},
   "source": [
    "Stop words are common words in a language that are often filtered out before or after processing text because they don't contribute much to the meaning of the text. Examples of stop words in English include \"the\", \"is\", \"and\", \"of\", etc."
   ]
  },
  {
   "cell_type": "code",
   "execution_count": 27,
   "metadata": {},
   "outputs": [
    {
     "name": "stderr",
     "output_type": "stream",
     "text": [
      "[nltk_data] Downloading package stopwords to\n",
      "[nltk_data]     C:\\Users\\HariharanSivakumar\\AppData\\Roaming\\nltk_data.\n",
      "[nltk_data]     ..\n",
      "[nltk_data]   Package stopwords is already up-to-date!\n",
      "[nltk_data] Downloading package punkt to\n",
      "[nltk_data]     C:\\Users\\HariharanSivakumar\\AppData\\Roaming\\nltk_data.\n",
      "[nltk_data]     ..\n",
      "[nltk_data]   Package punkt is already up-to-date!\n"
     ]
    }
   ],
   "source": [
    "import nltk\n",
    "from nltk.corpus import stopwords\n",
    "from nltk.tokenize import word_tokenize\n",
    "\n",
    "# Download the stopwords corpus if not already downloaded\n",
    "nltk.download('stopwords')\n",
    "nltk.download('punkt')\n",
    "\n",
    "# Example text\n",
    "text = \"This is an example sentence demonstrating the removal of stop words.\"\n",
    "\n",
    "# Tokenize the text\n",
    "tokens = word_tokenize(text)\n",
    "\n",
    "# Get English stop words\n",
    "stop_words = set(stopwords.words('english'))\n",
    "\n",
    "# Remove stop words from the tokenized text\n",
    "filtered_tokens = [word for word in tokens if word.lower() not in stop_words]\n",
    "\n",
    "# Join the filtered tokens back into a sentence\n",
    "filtered_sentence = ' '.join(filtered_tokens)\n"
   ]
  },
  {
   "cell_type": "code",
   "execution_count": 28,
   "metadata": {},
   "outputs": [
    {
     "name": "stdout",
     "output_type": "stream",
     "text": [
      "Original Text:\n",
      "This is an example sentence demonstrating the removal of stop words.\n",
      "\n",
      "Text after Stop Words Removal:\n",
      "example sentence demonstrating removal stop words .\n"
     ]
    }
   ],
   "source": [
    "\n",
    "print(\"Original Text:\")\n",
    "print(text)\n",
    "print(\"\\nText after Stop Words Removal:\")\n",
    "print(filtered_sentence)\n"
   ]
  },
  {
   "cell_type": "markdown",
   "metadata": {},
   "source": [
    "This code will tokenize the input text, then remove any words that are found in the NLTK English stop words list, and finally join the remaining tokens back into a sentence."
   ]
  },
  {
   "cell_type": "markdown",
   "metadata": {},
   "source": [
    "## Stopwords List"
   ]
  },
  {
   "cell_type": "code",
   "execution_count": 29,
   "metadata": {},
   "outputs": [
    {
     "name": "stdout",
     "output_type": "stream",
     "text": [
      "NLTK English Stop Words List:\n",
      "['i', 'me', 'my', 'myself', 'we', 'our', 'ours', 'ourselves', 'you', \"you're\", \"you've\", \"you'll\", \"you'd\", 'your', 'yours', 'yourself', 'yourselves', 'he', 'him', 'his', 'himself', 'she', \"she's\", 'her', 'hers', 'herself', 'it', \"it's\", 'its', 'itself', 'they', 'them', 'their', 'theirs', 'themselves', 'what', 'which', 'who', 'whom', 'this', 'that', \"that'll\", 'these', 'those', 'am', 'is', 'are', 'was', 'were', 'be', 'been', 'being', 'have', 'has', 'had', 'having', 'do', 'does', 'did', 'doing', 'a', 'an', 'the', 'and', 'but', 'if', 'or', 'because', 'as', 'until', 'while', 'of', 'at', 'by', 'for', 'with', 'about', 'against', 'between', 'into', 'through', 'during', 'before', 'after', 'above', 'below', 'to', 'from', 'up', 'down', 'in', 'out', 'on', 'off', 'over', 'under', 'again', 'further', 'then', 'once', 'here', 'there', 'when', 'where', 'why', 'how', 'all', 'any', 'both', 'each', 'few', 'more', 'most', 'other', 'some', 'such', 'no', 'nor', 'not', 'only', 'own', 'same', 'so', 'than', 'too', 'very', 's', 't', 'can', 'will', 'just', 'don', \"don't\", 'should', \"should've\", 'now', 'd', 'll', 'm', 'o', 're', 've', 'y', 'ain', 'aren', \"aren't\", 'couldn', \"couldn't\", 'didn', \"didn't\", 'doesn', \"doesn't\", 'hadn', \"hadn't\", 'hasn', \"hasn't\", 'haven', \"haven't\", 'isn', \"isn't\", 'ma', 'mightn', \"mightn't\", 'mustn', \"mustn't\", 'needn', \"needn't\", 'shan', \"shan't\", 'shouldn', \"shouldn't\", 'wasn', \"wasn't\", 'weren', \"weren't\", 'won', \"won't\", 'wouldn', \"wouldn't\"]\n"
     ]
    },
    {
     "name": "stderr",
     "output_type": "stream",
     "text": [
      "[nltk_data] Downloading package stopwords to\n",
      "[nltk_data]     C:\\Users\\HariharanSivakumar\\AppData\\Roaming\\nltk_data.\n",
      "[nltk_data]     ..\n",
      "[nltk_data]   Package stopwords is already up-to-date!\n"
     ]
    }
   ],
   "source": [
    "import nltk\n",
    "from nltk.corpus import stopwords\n",
    "\n",
    "# Download the stopwords corpus if not already downloaded\n",
    "nltk.download('stopwords')\n",
    "\n",
    "# Get the English stop words list\n",
    "english_stopwords = stopwords.words('english')\n",
    "\n",
    "# Print the list of English stop words\n",
    "print(\"NLTK English Stop Words List:\")\n",
    "print(english_stopwords)\n"
   ]
  },
  {
   "cell_type": "markdown",
   "metadata": {},
   "source": [
    "# Stemming "
   ]
  },
  {
   "cell_type": "markdown",
   "metadata": {},
   "source": [
    "Stemming is the process of reducing words to their root or base form, also known as the stem.\n",
    "\n",
    "This process involves removing suffixes and prefixes from words to obtain their base form, which may not always be a valid word itself but still represents the core meaning.\n",
    "\n",
    "Stemming is commonly used in natural language processing (NLP) and information retrieval tasks to normalize words and reduce them to their common base form."
   ]
  },
  {
   "cell_type": "code",
   "execution_count": 30,
   "metadata": {},
   "outputs": [
    {
     "name": "stderr",
     "output_type": "stream",
     "text": [
      "[nltk_data] Downloading package punkt to\n",
      "[nltk_data]     C:\\Users\\HariharanSivakumar\\AppData\\Roaming\\nltk_data.\n",
      "[nltk_data]     ..\n",
      "[nltk_data]   Package punkt is already up-to-date!\n"
     ]
    },
    {
     "data": {
      "text/plain": [
       "True"
      ]
     },
     "execution_count": 30,
     "metadata": {},
     "output_type": "execute_result"
    }
   ],
   "source": [
    "import nltk\n",
    "from nltk.stem import PorterStemmer\n",
    "from nltk.tokenize import word_tokenize\n",
    "\n",
    "# Download the punkt tokenizer if not already downloaded\n",
    "nltk.download('punkt')"
   ]
  },
  {
   "cell_type": "code",
   "execution_count": 31,
   "metadata": {},
   "outputs": [
    {
     "name": "stdout",
     "output_type": "stream",
     "text": [
      "Original Text:\n",
      "Stemming is a process of reducing words to their base form. It helps in normalization of text data.\n",
      "\n",
      "Text after Stemming:\n",
      "stem is a process of reduc word to their base form . it help in normal of text data .\n"
     ]
    }
   ],
   "source": [
    "\n",
    "\n",
    "# Example text\n",
    "text = \"Stemming is a process of reducing words to their base form. It helps in normalization of text data.\"\n",
    "\n",
    "# Tokenize the text\n",
    "tokens = word_tokenize(text)\n",
    "\n",
    "# Initialize the Porter stemmer\n",
    "stemmer = PorterStemmer()\n",
    "\n",
    "# Apply stemming to each token\n",
    "stemmed_tokens = [stemmer.stem(token) for token in tokens]\n",
    "\n",
    "# Join the stemmed tokens back into a sentence\n",
    "stemmed_text = ' '.join(stemmed_tokens)\n",
    "\n",
    "print(\"Original Text:\")\n",
    "print(text)\n",
    "print(\"\\nText after Stemming:\")\n",
    "print(stemmed_text)\n"
   ]
  },
  {
   "cell_type": "markdown",
   "metadata": {},
   "source": [
    "the Porter stemming algorithm from NLTK is used to stem each tokenized word in the input text. The stemmed tokens are then joined back into a sentence. This process helps in reducing words to their base form, which can be useful for tasks like text normalization, indexing, and information retrieval."
   ]
  },
  {
   "cell_type": "markdown",
   "metadata": {},
   "source": [
    "# Lemmatization"
   ]
  },
  {
   "cell_type": "markdown",
   "metadata": {},
   "source": [
    "Lemmatization is a process similar to stemming, where words are transformed to their base or dictionary form, known as the lemma. \n",
    "\n",
    "However, unlike stemming, lemmatization ensures that the transformed word belongs to the language and is a valid word."
   ]
  },
  {
   "cell_type": "code",
   "execution_count": 32,
   "metadata": {},
   "outputs": [
    {
     "name": "stderr",
     "output_type": "stream",
     "text": [
      "[nltk_data] Downloading package wordnet to\n",
      "[nltk_data]     C:\\Users\\HariharanSivakumar\\AppData\\Roaming\\nltk_data.\n",
      "[nltk_data]     ..\n",
      "[nltk_data] Downloading package punkt to\n",
      "[nltk_data]     C:\\Users\\HariharanSivakumar\\AppData\\Roaming\\nltk_data.\n",
      "[nltk_data]     ..\n",
      "[nltk_data]   Package punkt is already up-to-date!\n"
     ]
    },
    {
     "data": {
      "text/plain": [
       "True"
      ]
     },
     "execution_count": 32,
     "metadata": {},
     "output_type": "execute_result"
    }
   ],
   "source": [
    "import nltk\n",
    "from nltk.stem import WordNetLemmatizer\n",
    "from nltk.tokenize import word_tokenize\n",
    "\n",
    "# Download the WordNet corpus if not already downloaded\n",
    "nltk.download('wordnet')\n",
    "nltk.download('punkt')\n"
   ]
  },
  {
   "cell_type": "code",
   "execution_count": 36,
   "metadata": {},
   "outputs": [
    {
     "name": "stdout",
     "output_type": "stream",
     "text": [
      "Original Text:\n",
      "Lemmatization is a process of reducing words to their base form. It helps in normalization of text data.\n",
      "\n",
      "Text after Lemmatization:\n",
      "Lemmatization is a process of reducing word to their base form . It help in normalization of text data .\n"
     ]
    }
   ],
   "source": [
    "\n",
    "# Example text\n",
    "text = \"Lemmatization is a process of reducing words to their base form. It helps in normalization of text data.\"\n",
    "\n",
    "# Tokenize the text\n",
    "tokens = word_tokenize(text)\n",
    "\n",
    "# Initialize the WordNet lemmatizer\n",
    "lemmatizer = WordNetLemmatizer()\n",
    "\n",
    "# Apply lemmatization to each token\n",
    "lemmatized_tokens = [lemmatizer.lemmatize(token) for token in tokens]\n",
    "\n",
    "# Join the lemmatized tokens back into a sentence\n",
    "lemmatized_text = ' '.join(lemmatized_tokens)\n",
    "\n",
    "print(\"Original Text:\")\n",
    "print(text)\n",
    "print(\"\\nText after Lemmatization:\")\n",
    "print(lemmatized_text)"
   ]
  },
  {
   "cell_type": "markdown",
   "metadata": {},
   "source": [
    "NLTK's WordNet lemmatizer is used to lemmatize each tokenized word in the input text. The lemmatized tokens are then joined back into a sentence. Lemmatization helps in obtaining the base form of words, which can be useful for tasks like text normalization, information retrieval, and machine learning."
   ]
  },
  {
   "cell_type": "markdown",
   "metadata": {},
   "source": [
    "# Part-of-Speech (POS) Tagging"
   ]
  },
  {
   "cell_type": "markdown",
   "metadata": {},
   "source": [
    "Assigning grammatical categories (like noun, verb, adjective) to words in a sentence."
   ]
  },
  {
   "cell_type": "markdown",
   "metadata": {},
   "source": [
    "Part-of-Speech (POS) tagging is the process of assigning a grammatical tag to each word in a sentence based on its role and context within the sentence. \n",
    "\n",
    "These tags typically indicate the word's part of speech, such as noun, verb, adjective, adverb, etc., as well as additional grammatical information like tense, number, and case."
   ]
  },
  {
   "cell_type": "code",
   "execution_count": 37,
   "metadata": {},
   "outputs": [
    {
     "name": "stderr",
     "output_type": "stream",
     "text": [
      "[nltk_data] Downloading package averaged_perceptron_tagger to\n",
      "[nltk_data]     C:\\Users\\HariharanSivakumar\\AppData\\Roaming\\nltk_data.\n",
      "[nltk_data]     ..\n",
      "[nltk_data]   Unzipping taggers\\averaged_perceptron_tagger.zip.\n",
      "[nltk_data] Downloading package punkt to\n",
      "[nltk_data]     C:\\Users\\HariharanSivakumar\\AppData\\Roaming\\nltk_data.\n",
      "[nltk_data]     ..\n",
      "[nltk_data]   Package punkt is already up-to-date!\n"
     ]
    },
    {
     "data": {
      "text/plain": [
       "True"
      ]
     },
     "execution_count": 37,
     "metadata": {},
     "output_type": "execute_result"
    }
   ],
   "source": [
    "import nltk\n",
    "from nltk.tokenize import word_tokenize\n",
    "\n",
    "# Download the averaged_perceptron_tagger corpus if not already downloaded\n",
    "nltk.download('averaged_perceptron_tagger')\n",
    "nltk.download('punkt')\n"
   ]
  },
  {
   "cell_type": "code",
   "execution_count": 38,
   "metadata": {},
   "outputs": [
    {
     "name": "stdout",
     "output_type": "stream",
     "text": [
      "POS Tagging:\n",
      "[('POS', 'NNP'), ('tagging', 'NN'), ('is', 'VBZ'), ('essential', 'JJ'), ('for', 'IN'), ('understanding', 'VBG'), ('the', 'DT'), ('grammatical', 'JJ'), ('structure', 'NN'), ('of', 'IN'), ('sentences', 'NNS'), ('.', '.')]\n"
     ]
    }
   ],
   "source": [
    "\n",
    "# Example text\n",
    "text = \"POS tagging is essential for understanding the grammatical structure of sentences.\"\n",
    "\n",
    "# Tokenize the text\n",
    "tokens = word_tokenize(text)\n",
    "\n",
    "# Perform POS tagging\n",
    "pos_tags = nltk.pos_tag(tokens)\n",
    "\n",
    "print(\"POS Tagging:\")\n",
    "print(pos_tags)"
   ]
  },
  {
   "cell_type": "markdown",
   "metadata": {},
   "source": [
    "POS tagging is an essential preprocessing step in many NLP tasks, such as syntactic parsing, information extraction, and sentiment analysis, as it provides valuable linguistic information about the words in a sentence."
   ]
  },
  {
   "cell_type": "markdown",
   "metadata": {},
   "source": [
    "# Named Entity Recognition (NER)"
   ]
  },
  {
   "cell_type": "markdown",
   "metadata": {},
   "source": [
    "Named Entity Recognition (NER) is a natural language processing task that involves identifying and classifying named entities in text into predefined categories such as names of persons, organizations, locations, dates, quantities, and more. \n",
    "\n",
    "NER is crucial for various NLP applications, including information extraction, question answering, and entity linking."
   ]
  },
  {
   "cell_type": "code",
   "execution_count": null,
   "metadata": {},
   "outputs": [],
   "source": [
    "# pip install Counter"
   ]
  },
  {
   "cell_type": "code",
   "execution_count": 45,
   "metadata": {},
   "outputs": [
    {
     "name": "stderr",
     "output_type": "stream",
     "text": [
      "[nltk_data] Downloading package maxent_ne_chunker to\n",
      "[nltk_data]     C:\\Users\\HariharanSivakumar\\AppData\\Roaming\\nltk_data.\n",
      "[nltk_data]     ..\n",
      "[nltk_data]   Package maxent_ne_chunker is already up-to-date!\n",
      "[nltk_data] Downloading package words to\n",
      "[nltk_data]     C:\\Users\\HariharanSivakumar\\AppData\\Roaming\\nltk_data.\n",
      "[nltk_data]     ..\n",
      "[nltk_data]   Package words is already up-to-date!\n",
      "[nltk_data] Downloading package punkt to\n",
      "[nltk_data]     C:\\Users\\HariharanSivakumar\\AppData\\Roaming\\nltk_data.\n",
      "[nltk_data]     ..\n",
      "[nltk_data]   Package punkt is already up-to-date!\n"
     ]
    },
    {
     "data": {
      "text/plain": [
       "True"
      ]
     },
     "execution_count": 45,
     "metadata": {},
     "output_type": "execute_result"
    }
   ],
   "source": [
    "import nltk\n",
    "import matplotlib.pyplot as plt\n",
    "from nltk.tokenize import word_tokenize\n",
    "from nltk import ne_chunk\n",
    "from collections import Counter\n",
    "\n",
    "# Download the necessary NLTK corpora if not already downloaded\n",
    "nltk.download('maxent_ne_chunker')\n",
    "nltk.download('words')\n",
    "nltk.download('punkt')"
   ]
  },
  {
   "cell_type": "code",
   "execution_count": 48,
   "metadata": {},
   "outputs": [
    {
     "name": "stdout",
     "output_type": "stream",
     "text": [
      "[('GPE', 'Apple'), ('GPE', 'Cupertino'), ('GPE', 'California'), ('PERSON', 'John Smith'), ('PERSON', 'Google')]\n"
     ]
    }
   ],
   "source": [
    "\n",
    "text = \"Apple is a company based in Cupertino, California. John Smith works for Google.\"\n",
    "\n",
    "# Tokenize the text\n",
    "tokens = word_tokenize(text)\n",
    "\n",
    "# Perform POS tagging\n",
    "pos_tags = nltk.pos_tag(tokens)\n",
    "\n",
    "# Perform Named Entity Recognition (NER)\n",
    "ner_tags = ne_chunk(pos_tags)\n",
    "\n",
    "# Extract named entities along with their types\n",
    "named_entities = []\n",
    "for chunk in ner_tags:\n",
    "    if hasattr(chunk, 'label'):\n",
    "        named_entities.append((chunk.label(), ' '.join(c[0] for c in chunk)))\n",
    "print(named_entities)"
   ]
  },
  {
   "cell_type": "markdown",
   "metadata": {},
   "source": [
    "# Bag-of-Words (BoW) Model"
   ]
  },
  {
   "cell_type": "markdown",
   "metadata": {},
   "source": [
    "Representing text as a collection of words disregarding grammar and word order."
   ]
  },
  {
   "cell_type": "markdown",
   "metadata": {},
   "source": [
    "The Bag-of-Words (BoW) model is a simple and commonly used technique in natural language processing (NLP) for text representation. \n",
    "\n",
    "It represents text data as a collection of words, disregarding grammar and word order but keeping multiplicity (frequency) of words."
   ]
  },
  {
   "cell_type": "markdown",
   "metadata": {},
   "source": [
    "## Theory"
   ]
  },
  {
   "cell_type": "markdown",
   "metadata": {},
   "source": [
    "### Example:\n",
    "\n",
    "Suppose we have a corpus consisting of three documents:\n",
    "\n",
    "Document 1: \"The cat sat on the mat.\"\n",
    "\n",
    "Document 2: \"The dog played in the yard.\"\n",
    "\n",
    "Document 3: \"The cat and the dog are friends.\""
   ]
  },
  {
   "cell_type": "markdown",
   "metadata": {},
   "source": [
    "### 1. Tokenization:\n",
    "\n",
    "We first tokenize each document, splitting them into individual words or tokens:\n",
    "\n",
    "Document 1: [\"The\", \"cat\", \"sat\", \"on\", \"the\", \"mat\"]\n",
    "\n",
    "Document 2: [\"The\", \"dog\", \"played\", \"in\", \"the\", \"yard\"]\n",
    "\n",
    "Document 3: [\"The\", \"cat\", \"and\", \"the\", \"dog\", \"are\", \"friends\"]"
   ]
  },
  {
   "cell_type": "markdown",
   "metadata": {},
   "source": [
    "### 2. Vocabulary Construction:\n"
   ]
  },
  {
   "cell_type": "markdown",
   "metadata": {},
   "source": [
    "\n",
    "Next, we construct the vocabulary, which consists of all unique words in the corpus:\n",
    "\n",
    "Vocabulary: [\"The\", \"cat\", \"sat\", \"on\", \"mat\", \"dog\", \"played\", \"in\", \"yard\", \"and\", \"are\", \"friends\"]"
   ]
  },
  {
   "cell_type": "markdown",
   "metadata": {},
   "source": [
    "### 3. Document Representation:"
   ]
  },
  {
   "cell_type": "markdown",
   "metadata": {},
   "source": [
    "\n",
    "We represent each document in the corpus using a vector based on the frequency of words in the vocabulary:\n",
    "\n",
    "Document 1: [1, 1, 1, 1, 1, 0, 0, 0, 0, 0, 0, 0]\n",
    "\n",
    "Document 2: [1, 0, 0, 0, 0, 1, 1, 1, 1, 0, 0, 0]\n",
    "\n",
    "Document 3: [1, 1, 0, 0, 0, 1, 0, 0, 0, 1, 1, 1]\n",
    "\n",
    "Each element in the vector represents the frequency of the corresponding word in the vocabulary within the document."
   ]
  },
  {
   "cell_type": "markdown",
   "metadata": {},
   "source": [
    "## Code"
   ]
  },
  {
   "cell_type": "code",
   "execution_count": 49,
   "metadata": {},
   "outputs": [
    {
     "name": "stdout",
     "output_type": "stream",
     "text": [
      "Bag-of-Words Matrix:\n",
      "[[0 1 1 1 0 0 1 0 1]\n",
      " [0 2 0 1 0 1 1 0 1]\n",
      " [1 0 0 1 1 0 1 1 1]\n",
      " [0 1 1 1 0 0 1 0 1]]\n",
      "\n",
      "Vocabulary:\n",
      "['and' 'document' 'first' 'is' 'one' 'second' 'the' 'third' 'this']\n"
     ]
    }
   ],
   "source": [
    "from sklearn.feature_extraction.text import CountVectorizer\n",
    "\n",
    "# Example text corpus\n",
    "corpus = [\n",
    "    \"This is the first document.\",\n",
    "    \"This document is the second document.\",\n",
    "    \"And this is the third one.\",\n",
    "    \"Is this the first document?\",\n",
    "]\n",
    "\n",
    "# Initialize the CountVectorizer\n",
    "vectorizer = CountVectorizer()\n",
    "\n",
    "# Fit and transform the corpus to create the Bag-of-Words representation\n",
    "bow_matrix = vectorizer.fit_transform(corpus)\n",
    "\n",
    "# Get the vocabulary (unique words) learned by the vectorizer\n",
    "vocabulary = vectorizer.get_feature_names_out()\n",
    "\n",
    "# Convert the Bag-of-Words matrix to a dense array for easier manipulation\n",
    "bow_array = bow_matrix.toarray()\n",
    "\n",
    "# Print the Bag-of-Words matrix and vocabulary\n",
    "print(\"Bag-of-Words Matrix:\")\n",
    "print(bow_array)\n",
    "print(\"\\nVocabulary:\")\n",
    "print(vocabulary)\n"
   ]
  },
  {
   "cell_type": "markdown",
   "metadata": {},
   "source": [
    "# TF-IDF (Term Frequency-Inverse Document Frequency)"
   ]
  },
  {
   "cell_type": "markdown",
   "metadata": {},
   "source": [
    "A statistical measure to evaluate the importance of a word in a document relative to a collection of documents."
   ]
  },
  {
   "cell_type": "markdown",
   "metadata": {},
   "source": [
    "## Theory\n"
   ]
  },
  {
   "cell_type": "markdown",
   "metadata": {},
   "source": [
    "\n",
    "Document 1: \"The cat sat on the mat.\"\n",
    "\n",
    "Document 2: \"The dog played in the yard.\"\n",
    "\n",
    "Document 3: \"The cat and the dog are friends.\"\n",
    "\n",
    "Document 4: \"The mat is on the floor.\""
   ]
  },
  {
   "cell_type": "markdown",
   "metadata": {},
   "source": [
    "### 1. Term Frequency (TF):"
   ]
  },
  {
   "attachments": {
    "image.png": {
     "image/png": "[encoded data removed]"
    }
   },
   "cell_type": "markdown",
   "metadata": {},
   "source": [
    "![image.png](attachment:image.png)"
   ]
  },
  {
   "cell_type": "markdown",
   "metadata": {},
   "source": [
    "\n",
    "\n",
    "Let's calculate the TF for the term \"cat\" in Document 1:\n",
    "\n",
    "Number of times term \"cat\" appears in Document 1 = 1\n",
    "\n",
    "Total number of terms in Document 1 = 6\n",
    "\n",
    "TF(\"cat\", Document 1) = 1/6 ≈ 0.167\n",
    "\n",
    "Similarly, we can calculate TF for other terms in each document."
   ]
  },
  {
   "cell_type": "markdown",
   "metadata": {},
   "source": [
    "###  Inverse Document Frequency (IDF)"
   ]
  },
  {
   "attachments": {
    "image.png": {
     "image/png": "[encoded data removed]"
    }
   },
   "cell_type": "markdown",
   "metadata": {},
   "source": [
    "![image.png](attachment:image.png)"
   ]
  },
  {
   "cell_type": "markdown",
   "metadata": {},
   "source": [
    "Let's calculate the IDF for the term \"cat\" in the corpus:\n",
    "\n",
    "Total number of documents in the corpus (N) = 4\n",
    "\n",
    "Number of documents containing term \"cat\" (n_cat) = 2\n",
    "\n",
    "IDF(\"cat\") = log(4/2) = log(2) ≈ 0.693\n",
    "\n",
    "Similarly, we can calculate IDF for other terms in the corpus."
   ]
  },
  {
   "attachments": {
    "image.png": {
     "image/png": "[encoded data removed]"
    }
   },
   "cell_type": "markdown",
   "metadata": {},
   "source": [
    "![image.png](attachment:image.png)"
   ]
  },
  {
   "cell_type": "markdown",
   "metadata": {},
   "source": [
    "Let's calculate the TF-IDF for the term \"cat\" in Document 1:\n",
    "\n",
    "TF(\"cat\", Document 1) ≈ 0.167\n",
    "\n",
    "IDF(\"cat\") ≈ 0.693\n",
    "\n",
    "TF-IDF(\"cat\", Document 1) ≈ 0.167 * 0.693 ≈ 0.116\n",
    "\n",
    "Similarly, we can calculate TF-IDF for other terms in each document."
   ]
  },
  {
   "cell_type": "markdown",
   "metadata": {},
   "source": [
    "Interpretation:\n",
    "\n",
    "TF measures the local importance of a term within a document.\n",
    "\n",
    "IDF measures the global importance of a term across the corpus.\n",
    "\n",
    "TF-IDF combines TF and IDF to determine the importance of a term in a document relative to the entire corpus.\n",
    "\n",
    "Terms with high TF-IDF scores are important within the context of a document but are rare across the corpus."
   ]
  },
  {
   "cell_type": "markdown",
   "metadata": {},
   "source": [
    "## Code"
   ]
  },
  {
   "cell_type": "code",
   "execution_count": 50,
   "metadata": {},
   "outputs": [
    {
     "name": "stdout",
     "output_type": "stream",
     "text": [
      "TF-IDF Scores:\n",
      "Document 1:\n",
      "   and: 0.000\n",
      "   are: 0.000\n",
      "   cat: 0.396\n",
      "   dog: 0.000\n",
      "   floor: 0.000\n",
      "   friends: 0.000\n",
      "   in: 0.000\n",
      "   is: 0.000\n",
      "   mat: 0.396\n",
      "   on: 0.396\n",
      "   played: 0.000\n",
      "   sat: 0.503\n",
      "   the: 0.525\n",
      "   yard: 0.000\n",
      "Document 2:\n",
      "   and: 0.000\n",
      "   are: 0.000\n",
      "   cat: 0.000\n",
      "   dog: 0.363\n",
      "   floor: 0.000\n",
      "   friends: 0.000\n",
      "   in: 0.461\n",
      "   is: 0.000\n",
      "   mat: 0.000\n",
      "   on: 0.000\n",
      "   played: 0.461\n",
      "   sat: 0.000\n",
      "   the: 0.481\n",
      "   yard: 0.461\n",
      "Document 3:\n",
      "   and: 0.433\n",
      "   are: 0.433\n",
      "   cat: 0.341\n",
      "   dog: 0.341\n",
      "   floor: 0.000\n",
      "   friends: 0.433\n",
      "   in: 0.000\n",
      "   is: 0.000\n",
      "   mat: 0.000\n",
      "   on: 0.000\n",
      "   played: 0.000\n",
      "   sat: 0.000\n",
      "   the: 0.452\n",
      "   yard: 0.000\n",
      "Document 4:\n",
      "   and: 0.000\n",
      "   are: 0.000\n",
      "   cat: 0.000\n",
      "   dog: 0.000\n",
      "   floor: 0.480\n",
      "   friends: 0.000\n",
      "   in: 0.000\n",
      "   is: 0.480\n",
      "   mat: 0.379\n",
      "   on: 0.379\n",
      "   played: 0.000\n",
      "   sat: 0.000\n",
      "   the: 0.501\n",
      "   yard: 0.000\n"
     ]
    }
   ],
   "source": [
    "from sklearn.feature_extraction.text import TfidfVectorizer\n",
    "\n",
    "# Define the corpus\n",
    "corpus = [\n",
    "    \"The cat sat on the mat.\",\n",
    "    \"The dog played in the yard.\",\n",
    "    \"The cat and the dog are friends.\",\n",
    "    \"The mat is on the floor.\"\n",
    "]\n",
    "\n",
    "# Initialize the TfidfVectorizer\n",
    "vectorizer = TfidfVectorizer()\n",
    "\n",
    "# Fit and transform the corpus to calculate TF-IDF scores\n",
    "tfidf_matrix = vectorizer.fit_transform(corpus)\n",
    "\n",
    "# Get the feature names (vocabulary)\n",
    "feature_names = vectorizer.get_feature_names_out()\n",
    "\n",
    "# Convert the TF-IDF matrix to a dense array for easier manipulation\n",
    "tfidf_array = tfidf_matrix.toarray()\n",
    "\n",
    "# Print the TF-IDF scores for each term in each document\n",
    "print(\"TF-IDF Scores:\")\n",
    "for i, doc in enumerate(corpus):\n",
    "    print(f\"Document {i+1}:\")\n",
    "    for j, term in enumerate(feature_names):\n",
    "        print(f\"   {term}: {tfidf_array[i, j]:.3f}\")\n"
   ]
  },
  {
   "cell_type": "markdown",
   "metadata": {},
   "source": [
    "# Word Embeddings"
   ]
  },
  {
   "cell_type": "markdown",
   "metadata": {},
   "source": [
    "Representing words as dense vectors in a continuous vector space, capturing semantic meaning."
   ]
  },
  {
   "cell_type": "markdown",
   "metadata": {},
   "source": [
    "Word embeddings are a type of word representation in natural language processing (NLP) that captures semantic and syntactic information about words in a dense vector space. \n",
    "\n",
    "Unlike traditional sparse representations like one-hot encoding or Bag-of-Words, word embeddings encode semantic similarity between words by placing similar words close to each other in the vector space. \n",
    "\n",
    "Word embeddings are typically learned from large text corpora using neural network-based models, such as Word2Vec, GloVe, and FastText."
   ]
  },
  {
   "cell_type": "markdown",
   "metadata": {},
   "source": [
    "## Word2Vec"
   ]
  },
  {
   "cell_type": "markdown",
   "metadata": {},
   "source": [
    "**Definition**\n",
    "\n",
    "Word2Vec is a popular word embedding technique introduced by Mikolov et al. (2013). It learns word embeddings by predicting the surrounding words in a given context using shallow neural networks like Continuous Bag of Words (CBOW) or Skip-gram models."
   ]
  },
  {
   "cell_type": "markdown",
   "metadata": {},
   "source": [
    "**Key Features**\n",
    "\n",
    "**Semantic Similarity**: Words with similar meanings are clustered together in the embedding space.\n",
    "\n",
    "**Analogies**: Word vectors can capture analogical relationships like \"king - man + woman = queen\".\n",
    "\n",
    "Example:\n",
    "\n",
    "king - man + woman ≈ queen"
   ]
  },
  {
   "cell_type": "markdown",
   "metadata": {},
   "source": []
  },
  {
   "cell_type": "code",
   "execution_count": 2,
   "metadata": {},
   "outputs": [
    {
     "name": "stdout",
     "output_type": "stream",
     "text": [
      "Collecting gensim\n",
      "  Downloading gensim-4.3.2-cp311-cp311-win_amd64.whl (24.0 MB)\n",
      "     ---------------------------------------- 24.0/24.0 MB 9.4 MB/s eta 0:00:00\n",
      "Requirement already satisfied: numpy>=1.18.5 in c:\\users\\hariharansivakumar\\appdata\\local\\programs\\python\\python311\\lib\\site-packages (from gensim) (1.26.4)\n",
      "Requirement already satisfied: scipy>=1.7.0 in c:\\users\\hariharansivakumar\\appdata\\local\\programs\\python\\python311\\lib\\site-packages (from gensim) (1.11.4)\n",
      "Requirement already satisfied: smart-open>=1.8.1 in c:\\users\\hariharansivakumar\\appdata\\local\\programs\\python\\python311\\lib\\site-packages (from gensim) (6.4.0)\n",
      "Installing collected packages: gensim\n",
      "Successfully installed gensim-4.3.2\n",
      "Note: you may need to restart the kernel to use updated packages.\n"
     ]
    },
    {
     "name": "stderr",
     "output_type": "stream",
     "text": [
      "\n",
      "[notice] A new release of pip available: 22.3.1 -> 24.0\n",
      "[notice] To update, run: python.exe -m pip install --upgrade pip\n"
     ]
    }
   ],
   "source": [
    "#pip install gensim"
   ]
  },
  {
   "cell_type": "code",
   "execution_count": 3,
   "metadata": {},
   "outputs": [
    {
     "name": "stderr",
     "output_type": "stream",
     "text": [
      "[nltk_data] Downloading package punkt to\n",
      "[nltk_data]     C:\\Users\\HariharanSivakumar\\AppData\\Roaming\\nltk_data.\n",
      "[nltk_data]     ..\n",
      "[nltk_data]   Package punkt is already up-to-date!\n"
     ]
    },
    {
     "data": {
      "text/plain": [
       "True"
      ]
     },
     "execution_count": 3,
     "metadata": {},
     "output_type": "execute_result"
    }
   ],
   "source": [
    "from gensim.models import Word2Vec\n",
    "from nltk.tokenize import word_tokenize\n",
    "import nltk\n",
    "nltk.download('punkt')\n"
   ]
  },
  {
   "cell_type": "code",
   "execution_count": 4,
   "metadata": {},
   "outputs": [
    {
     "name": "stdout",
     "output_type": "stream",
     "text": [
      "Similarity between 'cat' and 'dog': 0.06\n",
      "Similar words to 'cat':\n",
      "yard: 0.17\n",
      "on: 0.14\n",
      "mat: 0.13\n",
      "dog: 0.06\n",
      "friends: 0.06\n"
     ]
    }
   ],
   "source": [
    "# Example corpus\n",
    "corpus = [\n",
    "    \"The cat sat on the mat.\",\n",
    "    \"The dog played in the yard.\",\n",
    "    \"The cat and the dog are friends.\",\n",
    "    \"The mat is on the floor.\"\n",
    "]\n",
    "\n",
    "# Tokenize the corpus\n",
    "tokenized_corpus = [word_tokenize(sentence.lower()) for sentence in corpus]\n",
    "\n",
    "# Define Word2Vec parameters\n",
    "vector_size = 100  # Dimensionality of the word vectors\n",
    "window = 5  # Maximum distance between the current and predicted word within a sentence\n",
    "min_count = 1  # Minimum frequency of words to be included in the model\n",
    "\n",
    "# Train the Word2Vec model\n",
    "model = Word2Vec(sentences=tokenized_corpus, vector_size=vector_size, window=window, min_count=min_count)\n",
    "\n",
    "# Get the word vectors\n",
    "word_vectors = model.wv\n",
    "\n",
    "# Test word similarity\n",
    "similarity = word_vectors.similarity('cat', 'dog')\n",
    "print(f\"Similarity between 'cat' and 'dog': {similarity:.2f}\")\n",
    "\n",
    "# Find similar words\n",
    "similar_words = word_vectors.most_similar('cat', topn=5)\n",
    "print(\"Similar words to 'cat':\")\n",
    "for word, score in similar_words:\n",
    "    print(f\"{word}: {score:.2f}\")"
   ]
  }
 ],
 "metadata": {
  "kernelspec": {
   "display_name": "Python 3",
   "language": "python",
   "name": "python3"
  },
  "language_info": {
   "codemirror_mode": {
    "name": "ipython",
    "version": 3
   },
   "file_extension": ".py",
   "mimetype": "text/x-python",
   "name": "python",
   "nbconvert_exporter": "python",
   "pygments_lexer": "ipython3",
   "version": "3.11.3"
  }
 },
 "nbformat": 4,
 "nbformat_minor": 2
}
