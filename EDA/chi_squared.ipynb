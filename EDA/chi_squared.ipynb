{
 "cells": [
  {
   "cell_type": "markdown",
   "metadata": {},
   "source": [
    "Contingency Table:\n",
    "                  Tea    Coffee    Total\n",
    "---------------------------------------\n",
    "Male              30       70      100\n",
    "Female            50       50      100\n",
    "---------------------------------------\n",
    "Total             80      120      200\n",
    "\n",
    "Hypotheses:\n",
    "- H₀: No association between gender and beverage preference.\n",
    "- H₁: Association between gender and beverage preference.\n",
    "\n",
    "Significance Level:\n",
    "- α: 0.05\n",
    "\n",
    "Expected Frequencies:\n",
    "- E_{Male, Tea} = (100 * 80) / 200 = 40\n",
    "- E_{Male, Coffee} = (100 * 120) / 200 = 60\n",
    "- E_{Female, Tea} = (100 * 80) / 200 = 40\n",
    "- E_{Female, Coffee} = (100 * 120) / 200 = 60\n",
    "\n",
    "Chi-Squared Statistic:\n",
    "- χ² = Σ [(O_{ij} - E_{ij})² / E_{ij}]\n",
    "  = [(30 - 40)² / 40] + [(70 - 60)² / 60] + [(50 - 40)² / 40] + [(50 - 60)² / 60]\n",
    "  = 1 + 1.6667 + 2.5 + 1.6667\n",
    "  = 6.8334\n",
    "\n",
    "Degrees of Freedom:\n",
    "- df = (rows - 1) * (columns - 1) = 1\n",
    "\n",
    "Critical Value:\n",
    "- For α = 0.05 and df = 1, critical χ² = 3.841\n",
    "\n",
    "Decision Criteria:\n",
    "- Compare χ² to the critical value or calculate the p-value.\n",
    "\n",
    "Decision:\n",
    "- Since χ² (6.8334) > critical χ² (3.841), reject H₀.\n",
    "\n",
    "Conclusion:\n",
    "- There is a significant association between gender and beverage preference at a 0.05 significance level.\n"
   ]
  },
  {
   "cell_type": "code",
   "execution_count": null,
   "metadata": {},
   "outputs": [],
   "source": []
  }
 ],
 "metadata": {
  "language_info": {
   "name": "python"
  }
 },
 "nbformat": 4,
 "nbformat_minor": 2
}
