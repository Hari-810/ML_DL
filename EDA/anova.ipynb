{
 "cells": [
  {
   "cell_type": "markdown",
   "metadata": {},
   "source": [
    "# ANOVA"
   ]
  },
  {
   "cell_type": "markdown",
   "metadata": {},
   "source": [
    "ANOVA, or Analysis of Variance, is a statistical method used to analyze the differences among group means in a sample. It is commonly used when comparing three or more groups to determine if there are statistically significant differences between them."
   ]
  },
  {
   "cell_type": "markdown",
   "metadata": {},
   "source": [
    "###  Types of ANOVA"
   ]
  },
  {
   "cell_type": "markdown",
   "metadata": {},
   "source": [
    "One-Way ANOVA:\n",
    "\n",
    "Purpose: Used when comparing the means of three or more independent groups (levels) to determine if there are statistically significant differences.\n",
    "Example: Comparing the average test scores of students from different schools to see if there is a significant difference."
   ]
  },
  {
   "cell_type": "markdown",
   "metadata": {},
   "source": [
    "Two-Way ANOVA:\n",
    "\n",
    "Purpose: Extends the one-way ANOVA by allowing the simultaneous analysis of two independent variables (factors) to determine if there are interactions between them.\n",
    "Example: Examining the effects of both diet and exercise on weight loss to see if there is an interaction between the two factors."
   ]
  },
  {
   "cell_type": "markdown",
   "metadata": {},
   "source": [
    "Repeated Measures ANOVA:\n",
    "\n",
    "Purpose: Used when the same subjects are used for each treatment or measurement, such as in a longitudinal study or within-subject design.\n",
    "Example: Analyzing the performance of individuals in a cognitive test under different conditions over multiple time points."
   ]
  },
  {
   "cell_type": "markdown",
   "metadata": {},
   "source": [
    "Repeated Measures ANOVA:\n",
    "\n",
    "Purpose: Used when the same subjects are used for each treatment or measurement, such as in a longitudinal study or within-subject design.\n",
    "Example: Analyzing the performance of individuals in a cognitive test under different conditions over multiple time points."
   ]
  },
  {
   "cell_type": "markdown",
   "metadata": {},
   "source": [
    "Analysis of Covariance (ANCOVA):\n",
    "\n",
    "Purpose: Combines elements of both ANOVA and regression. It is used when the researcher wants to statistically control for the effects of one or more continuous variables (covariates) while examining group differences.\n",
    "Example: Comparing the mean scores of different treatment groups while controlling for the initial performance level of the participants."
   ]
  },
  {
   "cell_type": "markdown",
   "metadata": {},
   "source": [
    "# One-Way ANOVA"
   ]
  },
  {
   "cell_type": "markdown",
   "metadata": {},
   "source": [
    "we want to compare the average test scores of students from three different teaching methods (A, B, and C) to determine if there are any significant differences in their performance."
   ]
  },
  {
   "cell_type": "markdown",
   "metadata": {},
   "source": [
    "Data:\n",
    "\n",
    "Teaching Method A: 80, 85, 88, 78, 92\n",
    "\n",
    "Teaching Method B: 75, 82, 80, 88, 79\n",
    "\n",
    "Teaching Method C: 90, 85, 82, 88, 95"
   ]
  },
  {
   "cell_type": "markdown",
   "metadata": {},
   "source": [
    "#### mathematical approach"
   ]
  },
  {
   "cell_type": "markdown",
   "metadata": {},
   "source": [
    "1. Calculate the mean for each group:\n",
    "\n",
    "   Mean A = (80 + 85 + 88 + 78 + 92) / 5 = 84.6\n",
    "\n",
    "   Mean B = (75 + 82 + 80 + 88 + 79) / 5 = 80.8\n",
    "   \n",
    "   Mean C = (90 + 85 + 82 + 88 + 95) / 5 = 88\n"
   ]
  },
  {
   "cell_type": "markdown",
   "metadata": {},
   "source": [
    "2. Calculate the overall mean (Grand Mean):\n",
    "\n",
    "   Grand Mean = (Mean A + Mean B + Mean C) / 3 = (84.6 + 80.8 + 88) / 3 = 84.13\n"
   ]
  },
  {
   "cell_type": "markdown",
   "metadata": {},
   "source": [
    "3. Calculate the Sum of Squares Total (SST):\n",
    "\n",
    "   SST = Σ(xi - Grand Mean)^2\n",
    "       = (80-84.13)^2 + (85-84.13)^2 + ... + (95-84.13)^2\n",
    "\n",
    "    SST = 474.47"
   ]
  },
  {
   "cell_type": "markdown",
   "metadata": {},
   "source": [
    "4. Calculate the Sum of Squares Between (SSB):\n",
    "\n",
    "   SSB = Σ(ni * (Meani - Grand Mean)^2), where ni is the number of observations in group i.\n",
    "\n",
    "   SSB = 5 * (84.6 - 84.13)^2 + 5 * (80.8 - 84.13)^2 + 5 * (88 - 84.13)^2\n",
    "\n",
    "   SSB = 132.47"
   ]
  },
  {
   "cell_type": "markdown",
   "metadata": {},
   "source": [
    "\n",
    "5. Calculate the Sum of Squares Within (SSW):\n",
    "\n",
    "   SSW = Σ(xi - Meani)^2, where xi is each individual score and Meani is the mean of group i.\n",
    "\n",
    "   SSW = (80-84.6)^2 + (85-84.6)^2 + ... + (95-88)^2\n",
    "\n",
    "   SSW = 341\n"
   ]
  },
  {
   "cell_type": "markdown",
   "metadata": {},
   "source": [
    "\n",
    "6. Calculate the Degrees of Freedom (DF):\n",
    "\n",
    "   - Degrees of Freedom Total (DFT) = N - 1, where N is the total number of observations.\n",
    "   - Degrees of Freedom Between (DFB) = k - 1, where k is the number of groups.\n",
    "   - Degrees of Freedom Within (DFW) = N - k.\n",
    "\n",
    "   DFT = N - 1 = 15 - 1 = 14\n",
    "\n",
    "   DFB = k - 1 = 3 - 1 = 2\n",
    "   \n",
    "   DFW = N - k = 15 - 3 = 12"
   ]
  },
  {
   "cell_type": "markdown",
   "metadata": {},
   "source": [
    "\n",
    "7. Calculate the Mean Squares:\n",
    "\n",
    "   - MSB = SSB / DFB\n",
    "   - MSW = SSW / DFW\n",
    "\n",
    "\n",
    "    MSB = SSB / DFB = 132.47 / 2 = 66.235\n",
    "    \n",
    "    MSW = SSW / DFW = 341 / 12 = 28.417"
   ]
  },
  {
   "cell_type": "markdown",
   "metadata": {},
   "source": [
    "\n",
    "8. Calculate the F-ratio:\n",
    "\n",
    "   F = MSB / MSW\n",
    "\n",
    "   F = MSB / MSW = 66.235 / 28.417 = 2.325"
   ]
  },
  {
   "cell_type": "markdown",
   "metadata": {},
   "source": [
    "9. Compare the calculated F-ratio to the critical F-value from the F-distribution table for the chosen significance level (e.g., 0.05).\n",
    "\n",
    "    For df1 = 2 and df2 = 12, the critical F-value at a 0.05 significance level is approximately 3.89.\n"
   ]
  },
  {
   "cell_type": "markdown",
   "metadata": {},
   "source": [
    "10. If F is greater than the critical F-value, reject the null hypothesis.\n",
    "\n",
    "    Since 2.325 < 3.89, we fail to reject the null hypothesis."
   ]
  },
  {
   "cell_type": "markdown",
   "metadata": {},
   "source": [
    "Conclusion:\n",
    "\n",
    "There is no significant difference in the average test scores among the three teaching methods at the 0.05 significance level."
   ]
  },
  {
   "cell_type": "markdown",
   "metadata": {},
   "source": [
    "#### code approach"
   ]
  },
  {
   "cell_type": "code",
   "execution_count": 4,
   "metadata": {},
   "outputs": [
    {
     "data": {
      "image/png": "[encoded data removed]",
      "text/plain": [
       "<Figure size 640x480 with 1 Axes>"
      ]
     },
     "metadata": {},
     "output_type": "display_data"
    }
   ],
   "source": [
    "import numpy as np\n",
    "import scipy.stats as stats\n",
    "import matplotlib.pyplot as plt\n",
    "\n",
    "# Data\n",
    "data_a = np.array([80, 85, 88, 78, 92])\n",
    "data_b = np.array([75, 82, 80, 88, 79])\n",
    "data_c = np.array([90, 85, 82, 88, 95])\n",
    "\n",
    "# Calculate means and standard deviations\n",
    "mean_a, std_a = np.mean(data_a), np.std(data_a)\n",
    "mean_b, std_b = np.mean(data_b), np.std(data_b)\n",
    "mean_c, std_c = np.mean(data_c), np.std(data_c)\n",
    "\n",
    "# One-way ANOVA\n",
    "f_statistic, p_value = stats.f_oneway(data_a, data_b, data_c)\n",
    "\n",
    "# Significance level (alpha)\n",
    "alpha = 0.05\n",
    "\n",
    "# Degrees of freedom\n",
    "df_between = 2  # Number of groups minus 1\n",
    "df_within = len(data_a) + len(data_b) + len(data_c) - 3  # Total number of observations minus number of groups\n",
    "\n",
    "# Critical F-value for alpha and degrees of freedom\n",
    "critical_f_value = stats.f.ppf(1 - alpha, df_between, df_within)\n",
    "\n",
    "# Plotting mean and standard deviation\n",
    "plt.errorbar(x=[1, 2, 3], y=[mean_a, mean_b, mean_c], yerr=[std_a, std_b, std_c], fmt='o', capsize=5, label='Mean ± SD')\n",
    "\n",
    "# Add labels and title\n",
    "plt.title('One-Way ANOVA Example with Standard Deviation')\n",
    "plt.xlabel('Teaching Method')\n",
    "plt.ylabel('Test Scores')\n",
    "\n",
    "# Highlight the rejection region\n",
    "plt.axhline(y=critical_f_value, color='r', linestyle='--', label='Critical F-value')\n",
    "plt.legend()\n",
    "\n",
    "plt.show()\n"
   ]
  },
  {
   "cell_type": "code",
   "execution_count": 6,
   "metadata": {},
   "outputs": [
    {
     "data": {
      "image/png": "[encoded data removed]",
      "text/plain": [
       "<Figure size 800x600 with 1 Axes>"
      ]
     },
     "metadata": {},
     "output_type": "display_data"
    },
    {
     "name": "stdout",
     "output_type": "stream",
     "text": [
      "F-statistic: 2.432500000000001\n",
      "P-value: 0.12976853540838382\n",
      "\n",
      "Conclusion: Fail to reject the null hypothesis.\n",
      "There is not enough evidence to suggest that the mean test scores for the three teaching methods are different.\n"
     ]
    }
   ],
   "source": [
    "import numpy as np\n",
    "import seaborn as sns\n",
    "import matplotlib.pyplot as plt\n",
    "import scipy.stats as stats\n",
    "\n",
    "# Data\n",
    "data_a = np.array([80, 85, 88, 78, 92])\n",
    "data_b = np.array([75, 82, 80, 88, 79])\n",
    "data_c = np.array([90, 85, 82, 88, 95])\n",
    "\n",
    "# Define hypotheses\n",
    "null_hypothesis = \"The means of the test scores for the three teaching methods are equal.\"\n",
    "alternative_hypothesis = \"At least one teaching method has a different mean test score.\"\n",
    "\n",
    "\n",
    "\n",
    "# Combine data for plotting\n",
    "all_data = np.concatenate([data_a, data_b, data_c])\n",
    "labels = ['Method A'] * len(data_a) + ['Method B'] * len(data_b) + ['Method C'] * len(data_c)\n",
    "\n",
    "# Create a DataFrame for seaborn\n",
    "import pandas as pd\n",
    "df = pd.DataFrame({'Test Scores': all_data, 'Teaching Method': labels})\n",
    "\n",
    "# Plotting\n",
    "sns.set(style=\"whitegrid\")\n",
    "plt.figure(figsize=(8, 6))\n",
    "sns.boxplot(x='Teaching Method', y='Test Scores', data=df, palette='Set3')\n",
    "plt.title('One-Way ANOVA Example')\n",
    "plt.show()\n",
    "\n",
    "# One-way ANOVA\n",
    "f_statistic, p_value = stats.f_oneway(data_a, data_b, data_c)\n",
    "\n",
    "# Print results\n",
    "print(f\"F-statistic: {f_statistic}\")\n",
    "print(f\"P-value: {p_value}\")\n",
    "\n",
    "\n",
    "# Define significance level\n",
    "alpha = 0.05\n",
    "\n",
    "# Draw conclusions\n",
    "if p_value < alpha:\n",
    "    print(\"\\nConclusion: Reject the null hypothesis.\")\n",
    "    print(\"There is sufficient evidence to suggest that at least one teaching method has a different mean test score.\")\n",
    "else:\n",
    "    print(\"\\nConclusion: Fail to reject the null hypothesis.\")\n",
    "    print(\"There is not enough evidence to suggest that the mean test scores for the three teaching methods are different.\")\n"
   ]
  },
  {
   "cell_type": "markdown",
   "metadata": {},
   "source": []
  },
  {
   "cell_type": "markdown",
   "metadata": {},
   "source": [
    "### Two-Way ANOVA test"
   ]
  },
  {
   "cell_type": "markdown",
   "metadata": {},
   "source": [
    " consider a two-way ANOVA example with two factors: teaching method (A, B, C) and gender (Male, Female). The goal is to examine whether there are significant differences in test scores based on both teaching method and gender."
   ]
  },
  {
   "cell_type": "markdown",
   "metadata": {},
   "source": [
    "Data:\n",
    "\n",
    "Teaching Method A:\n",
    "    \n",
    "    Male: 80, 85, 88, 78, 92\n",
    "\n",
    "    Female: 85, 90, 75, 80, 88\n",
    "\n",
    "Teaching Method B:\n",
    "\n",
    "    Male: 75, 82, 80, 88, 79\n",
    "\n",
    "    Female: 92, 88, 85, 90, 78\n",
    "\n",
    "Teaching Method C:\n",
    "\n",
    "    Male: 90, 85, 82, 88, 95\n",
    "\n",
    "    Female: 88, 92, 75, 80, 85"
   ]
  },
  {
   "cell_type": "markdown",
   "metadata": {},
   "source": [
    "#### Mathematical Approach:"
   ]
  },
  {
   "cell_type": "markdown",
   "metadata": {},
   "source": [
    "1. Calculate the means for each group:\n",
    "\n",
    "   Mean(A, Male) = (80 + 85 + 88 + 78 + 92) / 5 = 84.6\n",
    "\n",
    "   Mean(A, Female) = (85 + 90 + 75 + 80 + 88) / 5 = 81.6\n",
    "   \n",
    "   Mean(B, Male) = (75 + 82 + 80 + 88 + 79) / 5 = 80.8\n",
    "   \n",
    "   Mean(B, Female) = (92 + 88 + 85 + 90 + 78) / 5 = 86.6\n",
    "   \n",
    "   Mean(C, Male) = (90 + 85 + 82 + 88 + 95) / 5 = 86\n",
    "   \n",
    "   Mean(C, Female) = (88 + 92 + 75 + 80 + 85) / 5 = 82\n",
    "\n",
    "\n",
    "Calculate the means for each combination of teaching method and gender.\n",
    "\n",
    "\n"
   ]
  },
  {
   "cell_type": "markdown",
   "metadata": {},
   "source": [
    "\n",
    "2. Calculate the overall mean (Grand Mean):\n",
    "\n",
    "   Grand Mean = (Mean(A, Male) + Mean(A, Female) + Mean(B, Male) + Mean(B, Female) + Mean(C, Male) + Mean(C, Female)) / 6 = 83.3\n",
    "\n",
    "Calculate the grand mean of all observations."
   ]
  },
  {
   "cell_type": "markdown",
   "metadata": {},
   "source": [
    "\n",
    "3. Calculate the Sum of Squares Total (SST):\n",
    "\n",
    "   SST = Σ(xi - Grand Mean)^2\n",
    "       = (80-83.3)^2 + (85-83.3)^2 + ... + (85-83.3)^2\n",
    "       = 261.4\n"
   ]
  },
  {
   "cell_type": "markdown",
   "metadata": {},
   "source": [
    "\n",
    "4. Calculate the Sum of Squares Between (SSB_A):\n",
    "\n",
    "   SSB_A = Σ(ni * (Mean(Ai) - Grand Mean)^2), where ni is the number of observations in group i.\n",
    "\n",
    "   SSB_A = 5 * (84.6 - 83.3)^2 + 5 * (81.6 - 83.3)^2 + 5 * (80.8 - 83.3)^2 + 5 * (86.6 - 83.3)^2 + 5 * (86 - 83.3)^2 + 5 * (82 - 83.3)^2\n",
    "          = 16.6\n"
   ]
  },
  {
   "cell_type": "markdown",
   "metadata": {},
   "source": [
    "\n",
    "5. Calculate the Sum of Squares Between (SSB_B):\n",
    "\n",
    "   SSB_B = Σ(ni * (Mean(Bi) - Grand Mean)^2), where ni is the number of observations in group i.\n",
    "\n",
    "   SSB_B = 5 * (84.6 - 83.3)^2 + 5 * (81.6 - 83.3)^2 + 5 * (80.8 - 83.3)^2 + 5 * (86.6 - 83.3)^2 + 5 * (86 - 83.3)^2 + 5 * (82 - 83.3)^2\n",
    "          = 16.6"
   ]
  },
  {
   "cell_type": "markdown",
   "metadata": {},
   "source": [
    "\n",
    "6. Calculate the Sum of Squares Within (SSW):\n",
    "\n",
    "   SSW = Σ(xi - Meani)^2, where xi is each individual score and Meani is the mean of the group.\n",
    "\n",
    "   SSW = (80-84.6)^2 + (85-84.6)^2 + ... + (82-82)^2\n",
    "        = 228.2"
   ]
  },
  {
   "cell_type": "markdown",
   "metadata": {},
   "source": [
    "\n",
    "7. Calculate the Degrees of Freedom (DF):\n",
    "\n",
    "   - DFT = N - 1 = 29\n",
    "   - DFB_A = a - 1 = 2\n",
    "   - DFB_B = b - 1 = 1\n",
    "   - DFW = N - a * b = 26"
   ]
  },
  {
   "cell_type": "markdown",
   "metadata": {},
   "source": [
    "\n",
    "8. Calculate the Mean Squares:\n",
    "\n",
    "   - MSA = SSB_A / DFB_A = 8.3\n",
    "   - MSB = SSB_B / DFB_B = 16.6\n",
    "   - MSW = SSW / DFW = 8.7\n"
   ]
  },
  {
   "cell_type": "markdown",
   "metadata": {},
   "source": [
    "\n",
    "9. Calculate the F-ratios:\n",
    "\n",
    "   - FA = MSA / MSW = 0.95\n",
    "   - FB = MSB / MSW = 1.91"
   ]
  },
  {
   "cell_type": "markdown",
   "metadata": {},
   "source": [
    "10. Compare the F-ratios to Critical Values:\n",
    "\n",
    "    For α = 0.05:\n",
    "    - Critical FA(2,26) = 3.354\n",
    "    - Critical FB(1,26) = 4.174\n"
   ]
  },
  {
   "cell_type": "markdown",
   "metadata": {},
   "source": [
    "11. Draw Conclusions:\n",
    "\n",
    "    Fail to reject the null hypothesis for both factors.\n"
   ]
  },
  {
   "cell_type": "markdown",
   "metadata": {},
   "source": []
  },
  {
   "cell_type": "markdown",
   "metadata": {},
   "source": [
    "#### Python Code"
   ]
  },
  {
   "cell_type": "code",
   "execution_count": 10,
   "metadata": {},
   "outputs": [
    {
     "name": "stdout",
     "output_type": "stream",
     "text": [
      "Two-way ANOVA Results:\n",
      "F-statistic: 6330.482544928083\n",
      "P-value: 2.3145639466547123e-128\n"
     ]
    },
    {
     "data": {
      "text/plain": [
       "<Figure size 1000x600 with 0 Axes>"
      ]
     },
     "metadata": {},
     "output_type": "display_data"
    },
    {
     "data": {
      "image/png": "[encoded data removed]",
      "text/plain": [
       "<Figure size 567.847x500 with 1 Axes>"
      ]
     },
     "metadata": {},
     "output_type": "display_data"
    },
    {
     "name": "stdout",
     "output_type": "stream",
     "text": [
      "\n",
      "Conclusion: Reject the null hypothesis.\n",
      "There is sufficient evidence to suggest a significant difference in test scores.\n"
     ]
    }
   ],
   "source": [
    "import numpy as np\n",
    "import scipy.stats as stats\n",
    "import pandas as pd\n",
    "import seaborn as sns\n",
    "import matplotlib.pyplot as plt\n",
    "\n",
    "# Data\n",
    "data = {\n",
    "    'Teaching_Method': ['A']*10 + ['B']*10 + ['C']*10,\n",
    "    'Gender': ['Male']*5 + ['Female']*5 + ['Male']*5 + ['Female']*5 + ['Male']*5 + ['Female']*5,\n",
    "    'Test_Scores': [80, 85, 88, 78, 92, 85, 90, 75, 80, 88, 75, 82, 80, 88, 79, 92, 88, 85, 90, 78, 90, 85, 82, 88, 95, 88, 92, 75, 80, 85]\n",
    "}\n",
    "\n",
    "df = pd.DataFrame(data)\n",
    "\n",
    "# Encoding categorical variables\n",
    "df['Teaching_Method'] = pd.Categorical(df['Teaching_Method']).codes\n",
    "df['Gender'] = pd.Categorical(df['Gender']).codes\n",
    "\n",
    "# Creating the interaction term\n",
    "df['Interaction'] = df['Teaching_Method'] * df['Gender']\n",
    "\n",
    "# Two-way ANOVA\n",
    "result = stats.f_oneway(df['Test_Scores'], df['Teaching_Method'], df['Gender'], df['Interaction'])\n",
    "\n",
    "# Print ANOVA results\n",
    "print(\"Two-way ANOVA Results:\")\n",
    "print(f\"F-statistic: {result.statistic}\")\n",
    "print(f\"P-value: {result.pvalue}\")\n",
    "\n",
    "# Plotting interaction plot using catplot\n",
    "plt.figure(figsize=(10, 6))\n",
    "sns.catplot(x='Teaching_Method', y='Test_Scores', hue='Gender', data=df, kind='point', dodge=True)\n",
    "plt.title('Two-Way ANOVA Interaction Plot')\n",
    "plt.show()\n",
    "\n",
    "# Define hypotheses\n",
    "null_hypothesis_A = \"There is no significant difference in test scores among teaching methods.\"\n",
    "null_hypothesis_B = \"There is no significant difference in test scores between genders.\"\n",
    "alternative_hypothesis_A = \"There is a significant difference in test scores among teaching methods.\"\n",
    "alternative_hypothesis_B = \"There is a significant difference in test scores between genders.\"\n",
    "\n",
    "\n",
    "# Define significance level\n",
    "alpha = 0.05\n",
    "\n",
    "# Draw conclusions\n",
    "if result.pvalue < alpha:\n",
    "    print(\"\\nConclusion: Reject the null hypothesis.\")\n",
    "    print(\"There is sufficient evidence to suggest a significant difference in test scores.\")\n",
    "else:\n",
    "    print(\"\\nConclusion: Fail to reject the null hypothesis.\")\n",
    "    print(\"There is not enough evidence to suggest a significant difference in test scores.\")\n"
   ]
  },
  {
   "cell_type": "code",
   "execution_count": null,
   "metadata": {},
   "outputs": [],
   "source": []
  }
 ],
 "metadata": {
  "kernelspec": {
   "display_name": "base",
   "language": "python",
   "name": "python3"
  },
  "language_info": {
   "codemirror_mode": {
    "name": "ipython",
    "version": 3
   },
   "file_extension": ".py",
   "mimetype": "text/x-python",
   "name": "python",
   "nbconvert_exporter": "python",
   "pygments_lexer": "ipython3",
   "version": "3.10.9"
  }
 },
 "nbformat": 4,
 "nbformat_minor": 2
}
